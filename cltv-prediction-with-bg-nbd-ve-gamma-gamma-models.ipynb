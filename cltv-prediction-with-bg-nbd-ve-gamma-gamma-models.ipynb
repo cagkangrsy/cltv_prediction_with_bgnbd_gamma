{
 "cells": [
  {
   "cell_type": "markdown",
   "id": "791950f4",
   "metadata": {
    "papermill": {
     "duration": 0.010849,
     "end_time": "2022-10-30T15:38:25.889101",
     "exception": false,
     "start_time": "2022-10-30T15:38:25.878252",
     "status": "completed"
    },
    "tags": []
   },
   "source": [
    "# CLTV Prediction with BG-NBD ve Gamma-Gamma Models"
   ]
  },
  {
   "cell_type": "markdown",
   "id": "1680b460",
   "metadata": {
    "papermill": {
     "duration": 0.008288,
     "end_time": "2022-10-30T15:38:25.906710",
     "exception": false,
     "start_time": "2022-10-30T15:38:25.898422",
     "status": "completed"
    },
    "tags": []
   },
   "source": [
    "### Business Problem \n",
    "FLO, an online shoe store, wants to define a roadmap for their sales and marketing actions. For the company to make medium-long term plans, the potential value that existing customers will bring should be predicted."
   ]
  },
  {
   "cell_type": "markdown",
   "id": "29e47dcd",
   "metadata": {
    "papermill": {
     "duration": 0.012776,
     "end_time": "2022-10-30T15:38:25.928142",
     "exception": false,
     "start_time": "2022-10-30T15:38:25.915366",
     "status": "completed"
    },
    "tags": []
   },
   "source": [
    "### Dataset Summary\n",
    "The dataset consists of information obtained from the past shopping behavior of customers who made their last purchase as \n",
    "Omnichannel (both online and offline purchases) from FLO in 2020 - 2021.\n",
    "\n",
    "**master_id:** Unique customer number. \\\n",
    "**order_channel:** The channel that the purchase was made. (Android, iOS, Desktop, Mobile) \\\n",
    "**last_order_channel:** The channel that the  last purchase was made. \\\n",
    "**first_order_date:** First purchase date of the customer. \\\n",
    "**last_order_date:** Last purchase date of the customer. \\\n",
    "**last_order_date_online:** Last online purchase date of the customer. \\\n",
    "**last_order_date_offline:** Last offline purchase date of the customer. \\\n",
    "**order_num_total_ever_online:** Total online purchase count of the customer. \\\n",
    "**order_num_total_ever_offline:** Total offline purchase count of the customer. \\\n",
    "**customer_value_total_ever_offline:** Total value spent on offline purchases by the customer. \\\n",
    "**customer_value_total_ever_online:** Total value spent on online purchases by the customer. \\\n",
    "**interested_in_categories_12:** The categories that customer purchased from in the last 12 months. \n"
   ]
  },
  {
   "cell_type": "code",
   "execution_count": 1,
   "id": "144fea15",
   "metadata": {
    "_cell_guid": "b1076dfc-b9ad-4769-8c92-a6c4dae69d19",
    "_uuid": "8f2839f25d086af736a60e9eeb907d3b93b6e0e5",
    "execution": {
     "iopub.execute_input": "2022-10-30T15:38:25.947773Z",
     "iopub.status.busy": "2022-10-30T15:38:25.947265Z",
     "iopub.status.idle": "2022-10-30T15:38:42.085035Z",
     "shell.execute_reply": "2022-10-30T15:38:42.083131Z"
    },
    "papermill": {
     "duration": 16.151897,
     "end_time": "2022-10-30T15:38:42.088829",
     "exception": false,
     "start_time": "2022-10-30T15:38:25.936932",
     "status": "completed"
    },
    "tags": []
   },
   "outputs": [
    {
     "name": "stdout",
     "output_type": "stream",
     "text": [
      "Collecting lifetimes\r\n",
      "  Downloading Lifetimes-0.11.3-py3-none-any.whl (584 kB)\r\n",
      "\u001b[2K     \u001b[90m━━━━━━━━━━━━━━━━━━━━━━━━━━━━━━━━━━━━━\u001b[0m \u001b[32m584.2/584.2 kB\u001b[0m \u001b[31m809.5 kB/s\u001b[0m eta \u001b[36m0:00:00\u001b[0m\r\n",
      "\u001b[?25hRequirement already satisfied: numpy>=1.10.0 in /opt/conda/lib/python3.7/site-packages (from lifetimes) (1.21.6)\r\n",
      "Requirement already satisfied: pandas>=0.24.0 in /opt/conda/lib/python3.7/site-packages (from lifetimes) (1.3.5)\r\n",
      "Requirement already satisfied: scipy>=1.0.0 in /opt/conda/lib/python3.7/site-packages (from lifetimes) (1.7.3)\r\n",
      "Requirement already satisfied: dill>=0.2.6 in /opt/conda/lib/python3.7/site-packages (from lifetimes) (0.3.5.1)\r\n",
      "Collecting autograd>=1.2.0\r\n",
      "  Downloading autograd-1.5-py3-none-any.whl (48 kB)\r\n",
      "\u001b[2K     \u001b[90m━━━━━━━━━━━━━━━━━━━━━━━━━━━━━━━━━━━━━━━━\u001b[0m \u001b[32m48.9/48.9 kB\u001b[0m \u001b[31m3.5 MB/s\u001b[0m eta \u001b[36m0:00:00\u001b[0m\r\n",
      "\u001b[?25hRequirement already satisfied: future>=0.15.2 in /opt/conda/lib/python3.7/site-packages (from autograd>=1.2.0->lifetimes) (0.18.2)\r\n",
      "Requirement already satisfied: python-dateutil>=2.7.3 in /opt/conda/lib/python3.7/site-packages (from pandas>=0.24.0->lifetimes) (2.8.2)\r\n",
      "Requirement already satisfied: pytz>=2017.3 in /opt/conda/lib/python3.7/site-packages (from pandas>=0.24.0->lifetimes) (2022.1)\r\n",
      "Requirement already satisfied: six>=1.5 in /opt/conda/lib/python3.7/site-packages (from python-dateutil>=2.7.3->pandas>=0.24.0->lifetimes) (1.15.0)\r\n",
      "Installing collected packages: autograd, lifetimes\r\n",
      "Successfully installed autograd-1.5 lifetimes-0.11.3\r\n",
      "\u001b[33mWARNING: Running pip as the 'root' user can result in broken permissions and conflicting behaviour with the system package manager. It is recommended to use a virtual environment instead: https://pip.pypa.io/warnings/venv\u001b[0m\u001b[33m\r\n",
      "\u001b[0m"
     ]
    }
   ],
   "source": [
    "!pip install lifetimes"
   ]
  },
  {
   "cell_type": "code",
   "execution_count": 2,
   "id": "36180f64",
   "metadata": {
    "execution": {
     "iopub.execute_input": "2022-10-30T15:38:42.117795Z",
     "iopub.status.busy": "2022-10-30T15:38:42.117241Z",
     "iopub.status.idle": "2022-10-30T15:38:43.370076Z",
     "shell.execute_reply": "2022-10-30T15:38:43.368528Z"
    },
    "papermill": {
     "duration": 1.270838,
     "end_time": "2022-10-30T15:38:43.373125",
     "exception": false,
     "start_time": "2022-10-30T15:38:42.102287",
     "status": "completed"
    },
    "tags": []
   },
   "outputs": [],
   "source": [
    "import datetime as dt\n",
    "import pandas as pd\n",
    "import lifetimes\n",
    "from lifetimes import BetaGeoFitter\n",
    "from lifetimes import GammaGammaFitter\n",
    "from lifetimes.plotting import plot_period_transactions\n",
    "from sklearn.preprocessing import MinMaxScaler\n",
    "pd.set_option('display.max_columns', None)\n",
    "pd.set_option('display.width', 225)\n",
    "pd.set_option('display.float_format', lambda x: '%.4f' % x)"
   ]
  },
  {
   "cell_type": "code",
   "execution_count": 3,
   "id": "37a40303",
   "metadata": {
    "execution": {
     "iopub.execute_input": "2022-10-30T15:38:43.397009Z",
     "iopub.status.busy": "2022-10-30T15:38:43.395488Z",
     "iopub.status.idle": "2022-10-30T15:38:43.507823Z",
     "shell.execute_reply": "2022-10-30T15:38:43.506690Z"
    },
    "papermill": {
     "duration": 0.127051,
     "end_time": "2022-10-30T15:38:43.510783",
     "exception": false,
     "start_time": "2022-10-30T15:38:43.383732",
     "status": "completed"
    },
    "tags": []
   },
   "outputs": [],
   "source": [
    "df_ = pd.read_csv(\"../input/flo-data-20k/flo_data_20k.csv\")\n",
    "df = df_.copy()"
   ]
  },
  {
   "cell_type": "markdown",
   "id": "3c5517dd",
   "metadata": {
    "papermill": {
     "duration": 0.010841,
     "end_time": "2022-10-30T15:38:43.531973",
     "exception": false,
     "start_time": "2022-10-30T15:38:43.521132",
     "status": "completed"
    },
    "tags": []
   },
   "source": [
    "A function is written to examine the general shape of the dataset"
   ]
  },
  {
   "cell_type": "code",
   "execution_count": 4,
   "id": "23bed623",
   "metadata": {
    "execution": {
     "iopub.execute_input": "2022-10-30T15:38:43.554822Z",
     "iopub.status.busy": "2022-10-30T15:38:43.554426Z",
     "iopub.status.idle": "2022-10-30T15:38:43.629060Z",
     "shell.execute_reply": "2022-10-30T15:38:43.627202Z"
    },
    "papermill": {
     "duration": 0.089916,
     "end_time": "2022-10-30T15:38:43.632240",
     "exception": false,
     "start_time": "2022-10-30T15:38:43.542324",
     "status": "completed"
    },
    "tags": []
   },
   "outputs": [
    {
     "name": "stdout",
     "output_type": "stream",
     "text": [
      "------ Head ------\n",
      "                              master_id order_channel last_order_channel first_order_date last_order_date last_order_date_online last_order_date_offline  order_num_total_ever_online  order_num_total_ever_offline  \\\n",
      "0  cc294636-19f0-11eb-8d74-000d3a38a36f   Android App            Offline       2020-10-30      2021-02-26             2021-02-21              2021-02-26                       4.0000                        1.0000   \n",
      "1  f431bd5a-ab7b-11e9-a2fc-000d3a38a36f   Android App             Mobile       2017-02-08      2021-02-16             2021-02-16              2020-01-10                      19.0000                        2.0000   \n",
      "2  69b69676-1a40-11ea-941b-000d3a38a36f   Android App        Android App       2019-11-27      2020-11-27             2020-11-27              2019-12-01                       3.0000                        2.0000   \n",
      "3  1854e56c-491f-11eb-806e-000d3a38a36f   Android App        Android App       2021-01-06      2021-01-17             2021-01-17              2021-01-06                       1.0000                        1.0000   \n",
      "4  d6ea1074-f1f5-11e9-9346-000d3a38a36f       Desktop            Desktop       2019-08-03      2021-03-07             2021-03-07              2019-08-03                       1.0000                        1.0000   \n",
      "5  e585280e-aae1-11e9-a2fc-000d3a38a36f       Desktop            Offline       2018-11-18      2021-03-13             2018-11-18              2021-03-13                       1.0000                        2.0000   \n",
      "6  c445e4ee-6242-11ea-9d1a-000d3a38a36f   Android App        Android App       2020-03-04      2020-10-18             2020-10-18              2020-03-04                       3.0000                        1.0000   \n",
      "7  3f1b4dc8-8a7d-11ea-8ec0-000d3a38a36f        Mobile            Offline       2020-05-15      2020-08-12             2020-05-15              2020-08-12                       1.0000                        1.0000   \n",
      "8  cfbda69e-5b4f-11ea-aca7-000d3a38a36f   Android App        Android App       2020-01-23      2021-03-07             2021-03-07              2020-01-25                       3.0000                        2.0000   \n",
      "9  1143f032-440d-11ea-8b43-000d3a38a36f        Mobile             Mobile       2019-07-30      2020-10-04             2020-10-04              2019-07-30                       1.0000                        1.0000   \n",
      "\n",
      "   customer_value_total_ever_offline  customer_value_total_ever_online       interested_in_categories_12  \n",
      "0                           139.9900                          799.3800                           [KADIN]  \n",
      "1                           159.9700                         1853.5800  [ERKEK, COCUK, KADIN, AKTIFSPOR]  \n",
      "2                           189.9700                          395.3500                    [ERKEK, KADIN]  \n",
      "3                            39.9900                           81.9800               [AKTIFCOCUK, COCUK]  \n",
      "4                            49.9900                          159.9900                       [AKTIFSPOR]  \n",
      "5                           150.8700                           49.9900                           [KADIN]  \n",
      "6                            59.9900                          315.9400                       [AKTIFSPOR]  \n",
      "7                            49.9900                          113.6400                           [COCUK]  \n",
      "8                           120.4800                          934.2100             [ERKEK, COCUK, KADIN]  \n",
      "9                            69.9800                           95.9800                [KADIN, AKTIFSPOR]   \n",
      "\n",
      "------ Variables ------\n",
      "Index(['master_id', 'order_channel', 'last_order_channel', 'first_order_date', 'last_order_date', 'last_order_date_online', 'last_order_date_offline', 'order_num_total_ever_online', 'order_num_total_ever_offline',\n",
      "       'customer_value_total_ever_offline', 'customer_value_total_ever_online', 'interested_in_categories_12'],\n",
      "      dtype='object') \n",
      "\n",
      "------ Statistics ------\n",
      "                                       count     mean      std     min      25%      50%      75%        max\n",
      "order_num_total_ever_online       19945.0000   3.1109   4.2256  1.0000   1.0000   2.0000   4.0000   200.0000\n",
      "order_num_total_ever_offline      19945.0000   1.9139   2.0629  1.0000   1.0000   1.0000   2.0000   109.0000\n",
      "customer_value_total_ever_offline 19945.0000 253.9226 301.5329 10.0000  99.9900 179.9800 319.9700 18119.1400\n",
      "customer_value_total_ever_online  19945.0000 497.3217 832.6019 12.9900 149.9800 286.4600 578.4400 45220.1300 \n",
      "\n",
      "------ Null Value ------\n",
      "master_id                            0\n",
      "order_channel                        0\n",
      "last_order_channel                   0\n",
      "first_order_date                     0\n",
      "last_order_date                      0\n",
      "last_order_date_online               0\n",
      "last_order_date_offline              0\n",
      "order_num_total_ever_online          0\n",
      "order_num_total_ever_offline         0\n",
      "customer_value_total_ever_offline    0\n",
      "customer_value_total_ever_online     0\n",
      "interested_in_categories_12          0\n",
      "dtype: int64 \n",
      "\n",
      "------ Variable Types ------\n",
      "<class 'pandas.core.frame.DataFrame'>\n",
      "RangeIndex: 19945 entries, 0 to 19944\n",
      "Data columns (total 12 columns):\n",
      " #   Column                             Non-Null Count  Dtype  \n",
      "---  ------                             --------------  -----  \n",
      " 0   master_id                          19945 non-null  object \n",
      " 1   order_channel                      19945 non-null  object \n",
      " 2   last_order_channel                 19945 non-null  object \n",
      " 3   first_order_date                   19945 non-null  object \n",
      " 4   last_order_date                    19945 non-null  object \n",
      " 5   last_order_date_online             19945 non-null  object \n",
      " 6   last_order_date_offline            19945 non-null  object \n",
      " 7   order_num_total_ever_online        19945 non-null  float64\n",
      " 8   order_num_total_ever_offline       19945 non-null  float64\n",
      " 9   customer_value_total_ever_offline  19945 non-null  float64\n",
      " 10  customer_value_total_ever_online   19945 non-null  float64\n",
      " 11  interested_in_categories_12        19945 non-null  object \n",
      "dtypes: float64(4), object(8)\n",
      "memory usage: 1.8+ MB\n",
      "None \n",
      "\n"
     ]
    }
   ],
   "source": [
    "def general_info (dataframe):\n",
    "    print(\"------ Head ------\")\n",
    "    print(dataframe.head(10),\"\\n\")\n",
    "    print(\"------ Variables ------\")\n",
    "    print(dataframe.columns,\"\\n\")\n",
    "    print(\"------ Statistics ------\")\n",
    "    print(dataframe.describe().T,\"\\n\")\n",
    "    print(\"------ Null Value ------\")\n",
    "    print(dataframe.isnull().sum(),\"\\n\")\n",
    "    print(\"------ Variable Types ------\")\n",
    "    print(dataframe.info(),\"\\n\")\n",
    "general_info(df)"
   ]
  },
  {
   "cell_type": "markdown",
   "id": "2227181a",
   "metadata": {
    "papermill": {
     "duration": 0.010255,
     "end_time": "2022-10-30T15:38:43.653324",
     "exception": false,
     "start_time": "2022-10-30T15:38:43.643069",
     "status": "completed"
    },
    "tags": []
   },
   "source": [
    "For outlier value analysis, 3 functions are written to define thresholds, replace outliers and check outliers respectively. "
   ]
  },
  {
   "cell_type": "code",
   "execution_count": 5,
   "id": "7672a91c",
   "metadata": {
    "execution": {
     "iopub.execute_input": "2022-10-30T15:38:43.676068Z",
     "iopub.status.busy": "2022-10-30T15:38:43.675628Z",
     "iopub.status.idle": "2022-10-30T15:38:43.683435Z",
     "shell.execute_reply": "2022-10-30T15:38:43.682116Z"
    },
    "papermill": {
     "duration": 0.022019,
     "end_time": "2022-10-30T15:38:43.685955",
     "exception": false,
     "start_time": "2022-10-30T15:38:43.663936",
     "status": "completed"
    },
    "tags": []
   },
   "outputs": [],
   "source": [
    "def outlier_thresholds(dataframe, variable):\n",
    "    \"\"\"\n",
    "    Defines upper and lower limits to investigate outlying values. \n",
    "    The limits are defined by adding and subtracting 1.5 interquantile \n",
    "    range values respectively to 3rd quartile and 1st quartile.\n",
    "    \n",
    "    Parameters\n",
    "    ----------\n",
    "    dataframe : dataframe\n",
    "        The dataframe to be used.\n",
    "    variable : dataframe variable\n",
    "        The variable whose limits are intended to be calculated.\n",
    "    \n",
    "    Returns\n",
    "    -------\n",
    "    low_limit: Lower limit for outlier check.\n",
    "    upper_limit: Upper limit for outlier check.   \n",
    "    \"\"\"\n",
    "    quartile1 = dataframe[variable].quantile(0.01)\n",
    "    quartile3 = dataframe[variable].quantile(0.99)\n",
    "    interquantile_range = quartile3 - quartile1\n",
    "    up_limit = quartile3 + 1.5 * interquantile_range\n",
    "    low_limit = quartile1 - 1.5 * interquantile_range\n",
    "    return low_limit, up_limit"
   ]
  },
  {
   "cell_type": "code",
   "execution_count": 6,
   "id": "89ca266f",
   "metadata": {
    "execution": {
     "iopub.execute_input": "2022-10-30T15:38:43.709335Z",
     "iopub.status.busy": "2022-10-30T15:38:43.708665Z",
     "iopub.status.idle": "2022-10-30T15:38:43.716140Z",
     "shell.execute_reply": "2022-10-30T15:38:43.714907Z"
    },
    "papermill": {
     "duration": 0.021817,
     "end_time": "2022-10-30T15:38:43.718709",
     "exception": false,
     "start_time": "2022-10-30T15:38:43.696892",
     "status": "completed"
    },
    "tags": []
   },
   "outputs": [],
   "source": [
    "def replace_with_thresholds(dataframe, variable):\n",
    "    \"\"\"\n",
    "       Replaces the outlying values lower than low_limit and higher than\n",
    "       up_limit variables which are defined by outlier_threshold function.\n",
    "\n",
    "       Parameters\n",
    "       ----------\n",
    "       dataframe : dataframe\n",
    "           The dataframe to be used.\n",
    "       variable : dataframe variable\n",
    "           The variable whose limits are intended to be implemented.\n",
    "       \"\"\"\n",
    "    low_limit, up_limit = outlier_thresholds(dataframe, variable)\n",
    "    dataframe.loc[(dataframe[variable] < low_limit), variable] = round(low_limit,0)\n",
    "    dataframe.loc[(dataframe[variable] > up_limit), variable] = round(up_limit,0)"
   ]
  },
  {
   "cell_type": "code",
   "execution_count": 7,
   "id": "f9455b11",
   "metadata": {
    "execution": {
     "iopub.execute_input": "2022-10-30T15:38:43.742258Z",
     "iopub.status.busy": "2022-10-30T15:38:43.741642Z",
     "iopub.status.idle": "2022-10-30T15:38:43.747733Z",
     "shell.execute_reply": "2022-10-30T15:38:43.746871Z"
    },
    "papermill": {
     "duration": 0.020785,
     "end_time": "2022-10-30T15:38:43.750131",
     "exception": false,
     "start_time": "2022-10-30T15:38:43.729346",
     "status": "completed"
    },
    "tags": []
   },
   "outputs": [],
   "source": [
    "def check_outlier(dataframe, col_name):\n",
    "    \"\"\"\n",
    "     Checks if the dataframe variable has any values higher \n",
    "     than upper limit and lower than lower limit\n",
    "\n",
    "       Parameters\n",
    "       ----------\n",
    "       dataframe : dataframe\n",
    "           The dataframe to be used.\n",
    "       col_name : dataframe variable\n",
    "           The variable whose values are compared to limits.\n",
    "    \"\"\"\n",
    "    low_limit, up_limit = outlier_thresholds(dataframe, col_name)\n",
    "    if dataframe[(dataframe[col_name] > up_limit) | (dataframe[col_name] < low_limit)].any(axis=None):\n",
    "        print(f\"{col_name}: Lower limit = {low_limit}, Upper limit = {up_limit}\")\n",
    "        return True\n",
    "    else:\n",
    "        print(f\"{col_name}: Lower limit = {low_limit}, Upper limit = {up_limit}\")\n",
    "        return False"
   ]
  },
  {
   "cell_type": "markdown",
   "id": "250868da",
   "metadata": {
    "papermill": {
     "duration": 0.010578,
     "end_time": "2022-10-30T15:38:43.771253",
     "exception": false,
     "start_time": "2022-10-30T15:38:43.760675",
     "status": "completed"
    },
    "tags": []
   },
   "source": [
    "When the statistical properties are examined, it can be seen that there are abnormal jumps from 75% values to max values which can imply that there are outlying values that we should eliminate to have a better cltv analysis."
   ]
  },
  {
   "cell_type": "code",
   "execution_count": 8,
   "id": "a54f2a4d",
   "metadata": {
    "execution": {
     "iopub.execute_input": "2022-10-30T15:38:43.794686Z",
     "iopub.status.busy": "2022-10-30T15:38:43.793341Z",
     "iopub.status.idle": "2022-10-30T15:38:43.826164Z",
     "shell.execute_reply": "2022-10-30T15:38:43.824939Z"
    },
    "papermill": {
     "duration": 0.046999,
     "end_time": "2022-10-30T15:38:43.828760",
     "exception": false,
     "start_time": "2022-10-30T15:38:43.781761",
     "status": "completed"
    },
    "tags": []
   },
   "outputs": [
    {
     "data": {
      "text/html": [
       "<div>\n",
       "<style scoped>\n",
       "    .dataframe tbody tr th:only-of-type {\n",
       "        vertical-align: middle;\n",
       "    }\n",
       "\n",
       "    .dataframe tbody tr th {\n",
       "        vertical-align: top;\n",
       "    }\n",
       "\n",
       "    .dataframe thead th {\n",
       "        text-align: right;\n",
       "    }\n",
       "</style>\n",
       "<table border=\"1\" class=\"dataframe\">\n",
       "  <thead>\n",
       "    <tr style=\"text-align: right;\">\n",
       "      <th></th>\n",
       "      <th>count</th>\n",
       "      <th>mean</th>\n",
       "      <th>std</th>\n",
       "      <th>min</th>\n",
       "      <th>25%</th>\n",
       "      <th>50%</th>\n",
       "      <th>75%</th>\n",
       "      <th>max</th>\n",
       "    </tr>\n",
       "  </thead>\n",
       "  <tbody>\n",
       "    <tr>\n",
       "      <th>order_num_total_ever_online</th>\n",
       "      <td>19945.0000</td>\n",
       "      <td>3.1109</td>\n",
       "      <td>4.2256</td>\n",
       "      <td>1.0000</td>\n",
       "      <td>1.0000</td>\n",
       "      <td>2.0000</td>\n",
       "      <td>4.0000</td>\n",
       "      <td>200.0000</td>\n",
       "    </tr>\n",
       "    <tr>\n",
       "      <th>order_num_total_ever_offline</th>\n",
       "      <td>19945.0000</td>\n",
       "      <td>1.9139</td>\n",
       "      <td>2.0629</td>\n",
       "      <td>1.0000</td>\n",
       "      <td>1.0000</td>\n",
       "      <td>1.0000</td>\n",
       "      <td>2.0000</td>\n",
       "      <td>109.0000</td>\n",
       "    </tr>\n",
       "    <tr>\n",
       "      <th>customer_value_total_ever_offline</th>\n",
       "      <td>19945.0000</td>\n",
       "      <td>253.9226</td>\n",
       "      <td>301.5329</td>\n",
       "      <td>10.0000</td>\n",
       "      <td>99.9900</td>\n",
       "      <td>179.9800</td>\n",
       "      <td>319.9700</td>\n",
       "      <td>18119.1400</td>\n",
       "    </tr>\n",
       "    <tr>\n",
       "      <th>customer_value_total_ever_online</th>\n",
       "      <td>19945.0000</td>\n",
       "      <td>497.3217</td>\n",
       "      <td>832.6019</td>\n",
       "      <td>12.9900</td>\n",
       "      <td>149.9800</td>\n",
       "      <td>286.4600</td>\n",
       "      <td>578.4400</td>\n",
       "      <td>45220.1300</td>\n",
       "    </tr>\n",
       "  </tbody>\n",
       "</table>\n",
       "</div>"
      ],
      "text/plain": [
       "                                       count     mean      std     min      25%      50%      75%        max\n",
       "order_num_total_ever_online       19945.0000   3.1109   4.2256  1.0000   1.0000   2.0000   4.0000   200.0000\n",
       "order_num_total_ever_offline      19945.0000   1.9139   2.0629  1.0000   1.0000   1.0000   2.0000   109.0000\n",
       "customer_value_total_ever_offline 19945.0000 253.9226 301.5329 10.0000  99.9900 179.9800 319.9700 18119.1400\n",
       "customer_value_total_ever_online  19945.0000 497.3217 832.6019 12.9900 149.9800 286.4600 578.4400 45220.1300"
      ]
     },
     "execution_count": 8,
     "metadata": {},
     "output_type": "execute_result"
    }
   ],
   "source": [
    "df.describe().T"
   ]
  },
  {
   "cell_type": "markdown",
   "id": "42da4d08",
   "metadata": {
    "papermill": {
     "duration": 0.010305,
     "end_time": "2022-10-30T15:38:43.850127",
     "exception": false,
     "start_time": "2022-10-30T15:38:43.839822",
     "status": "completed"
    },
    "tags": []
   },
   "source": [
    "The appropriate columns for outlier analysis are stored in a list and checked if there are outlying values. Then replace_with_thresholds function is used to equate outlying values to limits."
   ]
  },
  {
   "cell_type": "code",
   "execution_count": 9,
   "id": "6bce6110",
   "metadata": {
    "execution": {
     "iopub.execute_input": "2022-10-30T15:38:43.873307Z",
     "iopub.status.busy": "2022-10-30T15:38:43.872877Z",
     "iopub.status.idle": "2022-10-30T15:38:43.913099Z",
     "shell.execute_reply": "2022-10-30T15:38:43.911257Z"
    },
    "papermill": {
     "duration": 0.055356,
     "end_time": "2022-10-30T15:38:43.916128",
     "exception": false,
     "start_time": "2022-10-30T15:38:43.860772",
     "status": "completed"
    },
    "tags": []
   },
   "outputs": [
    {
     "name": "stdout",
     "output_type": "stream",
     "text": [
      "order_num_total_ever_online: Lower limit = -27.5, Upper limit = 48.5\n",
      "Any outliers: True\n",
      "order_num_total_ever_offline: Lower limit = -8.0, Upper limit = 16.0\n",
      "Any outliers: True\n",
      "customer_value_total_ever_offline: Lower limit = -1779.9452000000003, Upper limit = 3019.8820000000005\n",
      "Any outliers: True\n",
      "customer_value_total_ever_online: Lower limit = -4615.7406000000055, Upper limit = 7799.541000000008\n",
      "Any outliers: True\n"
     ]
    }
   ],
   "source": [
    "columns = [\"order_num_total_ever_online\", \"order_num_total_ever_offline\", \"customer_value_total_ever_offline\",\"customer_value_total_ever_online\"]\n",
    "for col in columns:\n",
    "    print(f\"Any outliers: {check_outlier(df,col)}\")\n",
    "    replace_with_thresholds(df, col)"
   ]
  },
  {
   "cell_type": "markdown",
   "id": "5f7cd6ad",
   "metadata": {
    "papermill": {
     "duration": 0.010379,
     "end_time": "2022-10-30T15:38:43.937385",
     "exception": false,
     "start_time": "2022-10-30T15:38:43.927006",
     "status": "completed"
    },
    "tags": []
   },
   "source": [
    "After this process, it can be seen that max values are dropped to more reasonable values. Now we can proceed with CLTV analysis steps."
   ]
  },
  {
   "cell_type": "code",
   "execution_count": 10,
   "id": "788d65b4",
   "metadata": {
    "execution": {
     "iopub.execute_input": "2022-10-30T15:38:43.960641Z",
     "iopub.status.busy": "2022-10-30T15:38:43.960175Z",
     "iopub.status.idle": "2022-10-30T15:38:43.988475Z",
     "shell.execute_reply": "2022-10-30T15:38:43.987378Z"
    },
    "papermill": {
     "duration": 0.043155,
     "end_time": "2022-10-30T15:38:43.991174",
     "exception": false,
     "start_time": "2022-10-30T15:38:43.948019",
     "status": "completed"
    },
    "tags": []
   },
   "outputs": [
    {
     "data": {
      "text/html": [
       "<div>\n",
       "<style scoped>\n",
       "    .dataframe tbody tr th:only-of-type {\n",
       "        vertical-align: middle;\n",
       "    }\n",
       "\n",
       "    .dataframe tbody tr th {\n",
       "        vertical-align: top;\n",
       "    }\n",
       "\n",
       "    .dataframe thead th {\n",
       "        text-align: right;\n",
       "    }\n",
       "</style>\n",
       "<table border=\"1\" class=\"dataframe\">\n",
       "  <thead>\n",
       "    <tr style=\"text-align: right;\">\n",
       "      <th></th>\n",
       "      <th>count</th>\n",
       "      <th>mean</th>\n",
       "      <th>std</th>\n",
       "      <th>min</th>\n",
       "      <th>25%</th>\n",
       "      <th>50%</th>\n",
       "      <th>75%</th>\n",
       "      <th>max</th>\n",
       "    </tr>\n",
       "  </thead>\n",
       "  <tbody>\n",
       "    <tr>\n",
       "      <th>order_num_total_ever_online</th>\n",
       "      <td>19945.0000</td>\n",
       "      <td>3.0920</td>\n",
       "      <td>3.8095</td>\n",
       "      <td>1.0000</td>\n",
       "      <td>1.0000</td>\n",
       "      <td>2.0000</td>\n",
       "      <td>4.0000</td>\n",
       "      <td>48.0000</td>\n",
       "    </tr>\n",
       "    <tr>\n",
       "      <th>order_num_total_ever_offline</th>\n",
       "      <td>19945.0000</td>\n",
       "      <td>1.8862</td>\n",
       "      <td>1.4347</td>\n",
       "      <td>1.0000</td>\n",
       "      <td>1.0000</td>\n",
       "      <td>1.0000</td>\n",
       "      <td>2.0000</td>\n",
       "      <td>16.0000</td>\n",
       "    </tr>\n",
       "    <tr>\n",
       "      <th>customer_value_total_ever_offline</th>\n",
       "      <td>19945.0000</td>\n",
       "      <td>251.9213</td>\n",
       "      <td>251.0237</td>\n",
       "      <td>10.0000</td>\n",
       "      <td>99.9900</td>\n",
       "      <td>179.9800</td>\n",
       "      <td>319.9700</td>\n",
       "      <td>3020.0000</td>\n",
       "    </tr>\n",
       "    <tr>\n",
       "      <th>customer_value_total_ever_online</th>\n",
       "      <td>19945.0000</td>\n",
       "      <td>489.7057</td>\n",
       "      <td>632.6098</td>\n",
       "      <td>12.9900</td>\n",
       "      <td>149.9800</td>\n",
       "      <td>286.4600</td>\n",
       "      <td>578.4400</td>\n",
       "      <td>7800.0000</td>\n",
       "    </tr>\n",
       "  </tbody>\n",
       "</table>\n",
       "</div>"
      ],
      "text/plain": [
       "                                       count     mean      std     min      25%      50%      75%       max\n",
       "order_num_total_ever_online       19945.0000   3.0920   3.8095  1.0000   1.0000   2.0000   4.0000   48.0000\n",
       "order_num_total_ever_offline      19945.0000   1.8862   1.4347  1.0000   1.0000   1.0000   2.0000   16.0000\n",
       "customer_value_total_ever_offline 19945.0000 251.9213 251.0237 10.0000  99.9900 179.9800 319.9700 3020.0000\n",
       "customer_value_total_ever_online  19945.0000 489.7057 632.6098 12.9900 149.9800 286.4600 578.4400 7800.0000"
      ]
     },
     "execution_count": 10,
     "metadata": {},
     "output_type": "execute_result"
    }
   ],
   "source": [
    "df.describe().T"
   ]
  },
  {
   "cell_type": "markdown",
   "id": "de80d4e9",
   "metadata": {
    "papermill": {
     "duration": 0.010399,
     "end_time": "2022-10-30T15:38:44.012539",
     "exception": false,
     "start_time": "2022-10-30T15:38:44.002140",
     "status": "completed"
    },
    "tags": []
   },
   "source": [
    "New variables are defined for total order values and total customer spendings."
   ]
  },
  {
   "cell_type": "code",
   "execution_count": 11,
   "id": "0bbe54eb",
   "metadata": {
    "execution": {
     "iopub.execute_input": "2022-10-30T15:38:44.036382Z",
     "iopub.status.busy": "2022-10-30T15:38:44.035569Z",
     "iopub.status.idle": "2022-10-30T15:38:44.055395Z",
     "shell.execute_reply": "2022-10-30T15:38:44.054192Z"
    },
    "papermill": {
     "duration": 0.034316,
     "end_time": "2022-10-30T15:38:44.057703",
     "exception": false,
     "start_time": "2022-10-30T15:38:44.023387",
     "status": "completed"
    },
    "tags": []
   },
   "outputs": [
    {
     "data": {
      "text/html": [
       "<div>\n",
       "<style scoped>\n",
       "    .dataframe tbody tr th:only-of-type {\n",
       "        vertical-align: middle;\n",
       "    }\n",
       "\n",
       "    .dataframe tbody tr th {\n",
       "        vertical-align: top;\n",
       "    }\n",
       "\n",
       "    .dataframe thead th {\n",
       "        text-align: right;\n",
       "    }\n",
       "</style>\n",
       "<table border=\"1\" class=\"dataframe\">\n",
       "  <thead>\n",
       "    <tr style=\"text-align: right;\">\n",
       "      <th></th>\n",
       "      <th>master_id</th>\n",
       "      <th>order_channel</th>\n",
       "      <th>last_order_channel</th>\n",
       "      <th>first_order_date</th>\n",
       "      <th>last_order_date</th>\n",
       "      <th>last_order_date_online</th>\n",
       "      <th>last_order_date_offline</th>\n",
       "      <th>order_num_total_ever_online</th>\n",
       "      <th>order_num_total_ever_offline</th>\n",
       "      <th>customer_value_total_ever_offline</th>\n",
       "      <th>customer_value_total_ever_online</th>\n",
       "      <th>interested_in_categories_12</th>\n",
       "      <th>order_num_total</th>\n",
       "      <th>customer_value_total</th>\n",
       "    </tr>\n",
       "  </thead>\n",
       "  <tbody>\n",
       "    <tr>\n",
       "      <th>0</th>\n",
       "      <td>cc294636-19f0-11eb-8d74-000d3a38a36f</td>\n",
       "      <td>Android App</td>\n",
       "      <td>Offline</td>\n",
       "      <td>2020-10-30</td>\n",
       "      <td>2021-02-26</td>\n",
       "      <td>2021-02-21</td>\n",
       "      <td>2021-02-26</td>\n",
       "      <td>4.0000</td>\n",
       "      <td>1.0000</td>\n",
       "      <td>139.9900</td>\n",
       "      <td>799.3800</td>\n",
       "      <td>[KADIN]</td>\n",
       "      <td>5.0000</td>\n",
       "      <td>939.3700</td>\n",
       "    </tr>\n",
       "    <tr>\n",
       "      <th>1</th>\n",
       "      <td>f431bd5a-ab7b-11e9-a2fc-000d3a38a36f</td>\n",
       "      <td>Android App</td>\n",
       "      <td>Mobile</td>\n",
       "      <td>2017-02-08</td>\n",
       "      <td>2021-02-16</td>\n",
       "      <td>2021-02-16</td>\n",
       "      <td>2020-01-10</td>\n",
       "      <td>19.0000</td>\n",
       "      <td>2.0000</td>\n",
       "      <td>159.9700</td>\n",
       "      <td>1853.5800</td>\n",
       "      <td>[ERKEK, COCUK, KADIN, AKTIFSPOR]</td>\n",
       "      <td>21.0000</td>\n",
       "      <td>2013.5500</td>\n",
       "    </tr>\n",
       "    <tr>\n",
       "      <th>2</th>\n",
       "      <td>69b69676-1a40-11ea-941b-000d3a38a36f</td>\n",
       "      <td>Android App</td>\n",
       "      <td>Android App</td>\n",
       "      <td>2019-11-27</td>\n",
       "      <td>2020-11-27</td>\n",
       "      <td>2020-11-27</td>\n",
       "      <td>2019-12-01</td>\n",
       "      <td>3.0000</td>\n",
       "      <td>2.0000</td>\n",
       "      <td>189.9700</td>\n",
       "      <td>395.3500</td>\n",
       "      <td>[ERKEK, KADIN]</td>\n",
       "      <td>5.0000</td>\n",
       "      <td>585.3200</td>\n",
       "    </tr>\n",
       "    <tr>\n",
       "      <th>3</th>\n",
       "      <td>1854e56c-491f-11eb-806e-000d3a38a36f</td>\n",
       "      <td>Android App</td>\n",
       "      <td>Android App</td>\n",
       "      <td>2021-01-06</td>\n",
       "      <td>2021-01-17</td>\n",
       "      <td>2021-01-17</td>\n",
       "      <td>2021-01-06</td>\n",
       "      <td>1.0000</td>\n",
       "      <td>1.0000</td>\n",
       "      <td>39.9900</td>\n",
       "      <td>81.9800</td>\n",
       "      <td>[AKTIFCOCUK, COCUK]</td>\n",
       "      <td>2.0000</td>\n",
       "      <td>121.9700</td>\n",
       "    </tr>\n",
       "    <tr>\n",
       "      <th>4</th>\n",
       "      <td>d6ea1074-f1f5-11e9-9346-000d3a38a36f</td>\n",
       "      <td>Desktop</td>\n",
       "      <td>Desktop</td>\n",
       "      <td>2019-08-03</td>\n",
       "      <td>2021-03-07</td>\n",
       "      <td>2021-03-07</td>\n",
       "      <td>2019-08-03</td>\n",
       "      <td>1.0000</td>\n",
       "      <td>1.0000</td>\n",
       "      <td>49.9900</td>\n",
       "      <td>159.9900</td>\n",
       "      <td>[AKTIFSPOR]</td>\n",
       "      <td>2.0000</td>\n",
       "      <td>209.9800</td>\n",
       "    </tr>\n",
       "  </tbody>\n",
       "</table>\n",
       "</div>"
      ],
      "text/plain": [
       "                              master_id order_channel last_order_channel first_order_date last_order_date last_order_date_online last_order_date_offline  order_num_total_ever_online  order_num_total_ever_offline  \\\n",
       "0  cc294636-19f0-11eb-8d74-000d3a38a36f   Android App            Offline       2020-10-30      2021-02-26             2021-02-21              2021-02-26                       4.0000                        1.0000   \n",
       "1  f431bd5a-ab7b-11e9-a2fc-000d3a38a36f   Android App             Mobile       2017-02-08      2021-02-16             2021-02-16              2020-01-10                      19.0000                        2.0000   \n",
       "2  69b69676-1a40-11ea-941b-000d3a38a36f   Android App        Android App       2019-11-27      2020-11-27             2020-11-27              2019-12-01                       3.0000                        2.0000   \n",
       "3  1854e56c-491f-11eb-806e-000d3a38a36f   Android App        Android App       2021-01-06      2021-01-17             2021-01-17              2021-01-06                       1.0000                        1.0000   \n",
       "4  d6ea1074-f1f5-11e9-9346-000d3a38a36f       Desktop            Desktop       2019-08-03      2021-03-07             2021-03-07              2019-08-03                       1.0000                        1.0000   \n",
       "\n",
       "   customer_value_total_ever_offline  customer_value_total_ever_online       interested_in_categories_12  order_num_total  customer_value_total  \n",
       "0                           139.9900                          799.3800                           [KADIN]           5.0000              939.3700  \n",
       "1                           159.9700                         1853.5800  [ERKEK, COCUK, KADIN, AKTIFSPOR]          21.0000             2013.5500  \n",
       "2                           189.9700                          395.3500                    [ERKEK, KADIN]           5.0000              585.3200  \n",
       "3                            39.9900                           81.9800               [AKTIFCOCUK, COCUK]           2.0000              121.9700  \n",
       "4                            49.9900                          159.9900                       [AKTIFSPOR]           2.0000              209.9800  "
      ]
     },
     "execution_count": 11,
     "metadata": {},
     "output_type": "execute_result"
    }
   ],
   "source": [
    "df[\"order_num_total\"] = df[\"order_num_total_ever_online\"] + df[\"order_num_total_ever_offline\"]\n",
    "df[\"customer_value_total\"] = df[\"customer_value_total_ever_offline\"] + df[\"customer_value_total_ever_online\"]\n",
    "\n",
    "df.head()"
   ]
  },
  {
   "cell_type": "markdown",
   "id": "553bd6e9",
   "metadata": {
    "papermill": {
     "duration": 0.01074,
     "end_time": "2022-10-30T15:38:44.079731",
     "exception": false,
     "start_time": "2022-10-30T15:38:44.068991",
     "status": "completed"
    },
    "tags": []
   },
   "source": [
    "The columns that has date value inside has their data types as object. So they are transformed into date"
   ]
  },
  {
   "cell_type": "code",
   "execution_count": 12,
   "id": "40a43850",
   "metadata": {
    "execution": {
     "iopub.execute_input": "2022-10-30T15:38:44.103862Z",
     "iopub.status.busy": "2022-10-30T15:38:44.103182Z",
     "iopub.status.idle": "2022-10-30T15:38:44.143918Z",
     "shell.execute_reply": "2022-10-30T15:38:44.142643Z"
    },
    "papermill": {
     "duration": 0.05557,
     "end_time": "2022-10-30T15:38:44.146409",
     "exception": false,
     "start_time": "2022-10-30T15:38:44.090839",
     "status": "completed"
    },
    "tags": []
   },
   "outputs": [
    {
     "data": {
      "text/plain": [
       "first_order_date           datetime64[ns]\n",
       "last_order_date            datetime64[ns]\n",
       "last_order_date_online     datetime64[ns]\n",
       "last_order_date_offline    datetime64[ns]\n",
       "dtype: object"
      ]
     },
     "execution_count": 12,
     "metadata": {},
     "output_type": "execute_result"
    }
   ],
   "source": [
    "date_columns = df.columns[df.columns.str.contains(\"date\")]\n",
    "df[date_columns] = df[date_columns].apply(pd.to_datetime)\n",
    "\n",
    "df[date_columns].dtypes"
   ]
  },
  {
   "cell_type": "markdown",
   "id": "b6e3b237",
   "metadata": {
    "papermill": {
     "duration": 0.011193,
     "end_time": "2022-10-30T15:38:44.168902",
     "exception": false,
     "start_time": "2022-10-30T15:38:44.157709",
     "status": "completed"
    },
    "tags": []
   },
   "source": [
    "For time analysis purposes, an analysis date is defined which is 2 days later than the last transaction."
   ]
  },
  {
   "cell_type": "code",
   "execution_count": 13,
   "id": "0af3e736",
   "metadata": {
    "execution": {
     "iopub.execute_input": "2022-10-30T15:38:44.193367Z",
     "iopub.status.busy": "2022-10-30T15:38:44.192988Z",
     "iopub.status.idle": "2022-10-30T15:38:44.200791Z",
     "shell.execute_reply": "2022-10-30T15:38:44.199002Z"
    },
    "papermill": {
     "duration": 0.023398,
     "end_time": "2022-10-30T15:38:44.203408",
     "exception": false,
     "start_time": "2022-10-30T15:38:44.180010",
     "status": "completed"
    },
    "tags": []
   },
   "outputs": [
    {
     "name": "stdout",
     "output_type": "stream",
     "text": [
      "2021-05-30 00:00:00\n"
     ]
    }
   ],
   "source": [
    "print(df[\"last_order_date\"].max())\n",
    "analysis_date = dt.datetime(2021,6,1) "
   ]
  },
  {
   "cell_type": "markdown",
   "id": "196ef0a2",
   "metadata": {
    "papermill": {
     "duration": 0.01088,
     "end_time": "2022-10-30T15:38:44.226386",
     "exception": false,
     "start_time": "2022-10-30T15:38:44.215506",
     "status": "completed"
    },
    "tags": []
   },
   "source": [
    "CLTV dataframe is formed by customer ids, weekly recency, weekly tenure, frequency and average monetary."
   ]
  },
  {
   "cell_type": "code",
   "execution_count": 14,
   "id": "aab85570",
   "metadata": {
    "execution": {
     "iopub.execute_input": "2022-10-30T15:38:44.251547Z",
     "iopub.status.busy": "2022-10-30T15:38:44.250992Z",
     "iopub.status.idle": "2022-10-30T15:38:44.276065Z",
     "shell.execute_reply": "2022-10-30T15:38:44.274833Z"
    },
    "papermill": {
     "duration": 0.040722,
     "end_time": "2022-10-30T15:38:44.278905",
     "exception": false,
     "start_time": "2022-10-30T15:38:44.238183",
     "status": "completed"
    },
    "tags": []
   },
   "outputs": [
    {
     "data": {
      "text/html": [
       "<div>\n",
       "<style scoped>\n",
       "    .dataframe tbody tr th:only-of-type {\n",
       "        vertical-align: middle;\n",
       "    }\n",
       "\n",
       "    .dataframe tbody tr th {\n",
       "        vertical-align: top;\n",
       "    }\n",
       "\n",
       "    .dataframe thead th {\n",
       "        text-align: right;\n",
       "    }\n",
       "</style>\n",
       "<table border=\"1\" class=\"dataframe\">\n",
       "  <thead>\n",
       "    <tr style=\"text-align: right;\">\n",
       "      <th></th>\n",
       "      <th>customer_id</th>\n",
       "      <th>recency_cltv_weekly</th>\n",
       "      <th>T_weekly</th>\n",
       "      <th>frequency</th>\n",
       "      <th>monetary_cltv_avg</th>\n",
       "    </tr>\n",
       "  </thead>\n",
       "  <tbody>\n",
       "    <tr>\n",
       "      <th>0</th>\n",
       "      <td>cc294636-19f0-11eb-8d74-000d3a38a36f</td>\n",
       "      <td>17.0000</td>\n",
       "      <td>30.5714</td>\n",
       "      <td>5.0000</td>\n",
       "      <td>187.8740</td>\n",
       "    </tr>\n",
       "    <tr>\n",
       "      <th>1</th>\n",
       "      <td>f431bd5a-ab7b-11e9-a2fc-000d3a38a36f</td>\n",
       "      <td>209.8571</td>\n",
       "      <td>224.8571</td>\n",
       "      <td>21.0000</td>\n",
       "      <td>95.8833</td>\n",
       "    </tr>\n",
       "    <tr>\n",
       "      <th>2</th>\n",
       "      <td>69b69676-1a40-11ea-941b-000d3a38a36f</td>\n",
       "      <td>52.2857</td>\n",
       "      <td>78.8571</td>\n",
       "      <td>5.0000</td>\n",
       "      <td>117.0640</td>\n",
       "    </tr>\n",
       "    <tr>\n",
       "      <th>3</th>\n",
       "      <td>1854e56c-491f-11eb-806e-000d3a38a36f</td>\n",
       "      <td>1.5714</td>\n",
       "      <td>20.8571</td>\n",
       "      <td>2.0000</td>\n",
       "      <td>60.9850</td>\n",
       "    </tr>\n",
       "    <tr>\n",
       "      <th>4</th>\n",
       "      <td>d6ea1074-f1f5-11e9-9346-000d3a38a36f</td>\n",
       "      <td>83.1429</td>\n",
       "      <td>95.4286</td>\n",
       "      <td>2.0000</td>\n",
       "      <td>104.9900</td>\n",
       "    </tr>\n",
       "  </tbody>\n",
       "</table>\n",
       "</div>"
      ],
      "text/plain": [
       "                            customer_id  recency_cltv_weekly  T_weekly  frequency  monetary_cltv_avg\n",
       "0  cc294636-19f0-11eb-8d74-000d3a38a36f              17.0000   30.5714     5.0000           187.8740\n",
       "1  f431bd5a-ab7b-11e9-a2fc-000d3a38a36f             209.8571  224.8571    21.0000            95.8833\n",
       "2  69b69676-1a40-11ea-941b-000d3a38a36f              52.2857   78.8571     5.0000           117.0640\n",
       "3  1854e56c-491f-11eb-806e-000d3a38a36f               1.5714   20.8571     2.0000            60.9850\n",
       "4  d6ea1074-f1f5-11e9-9346-000d3a38a36f              83.1429   95.4286     2.0000           104.9900"
      ]
     },
     "execution_count": 14,
     "metadata": {},
     "output_type": "execute_result"
    }
   ],
   "source": [
    "cltv_df = pd.DataFrame()\n",
    "cltv_df[\"customer_id\"] = df[\"master_id\"]\n",
    "\n",
    "# Recency is the date difference betwwen first and last orders of a customer\n",
    "cltv_df[\"recency_cltv_weekly\"] = (df[\"last_order_date\"] - df[\"first_order_date\"]) / dt.timedelta(weeks=1)\n",
    "\n",
    "# Tenure is the date difference betwwen first order of a customer and analysis date.\n",
    "cltv_df[\"T_weekly\"] = (analysis_date - df[\"first_order_date\"]) / dt.timedelta(weeks=1)\n",
    "\n",
    "cltv_df[\"frequency\"] = df[\"order_num_total\"]\n",
    "cltv_df[\"monetary_cltv_avg\"] = df[\"customer_value_total\"] / df[\"order_num_total\"]\n",
    "\n",
    "cltv_df.head()"
   ]
  },
  {
   "cell_type": "markdown",
   "id": "8dc17406",
   "metadata": {
    "papermill": {
     "duration": 0.011055,
     "end_time": "2022-10-30T15:38:44.301577",
     "exception": false,
     "start_time": "2022-10-30T15:38:44.290522",
     "status": "completed"
    },
    "tags": []
   },
   "source": [
    "BG/NBD model is prepared and parameters are obtained."
   ]
  },
  {
   "cell_type": "code",
   "execution_count": 15,
   "id": "6ad48c10",
   "metadata": {
    "execution": {
     "iopub.execute_input": "2022-10-30T15:38:44.325906Z",
     "iopub.status.busy": "2022-10-30T15:38:44.325493Z",
     "iopub.status.idle": "2022-10-30T15:38:44.979157Z",
     "shell.execute_reply": "2022-10-30T15:38:44.977682Z"
    },
    "papermill": {
     "duration": 0.668857,
     "end_time": "2022-10-30T15:38:44.981781",
     "exception": false,
     "start_time": "2022-10-30T15:38:44.312924",
     "status": "completed"
    },
    "tags": []
   },
   "outputs": [
    {
     "data": {
      "text/plain": [
       "<lifetimes.BetaGeoFitter: fitted with 19945 subjects, a: 0.00, alpha: 76.17, b: 0.00, r: 3.66>"
      ]
     },
     "execution_count": 15,
     "metadata": {},
     "output_type": "execute_result"
    }
   ],
   "source": [
    "bgf = BetaGeoFitter(penalizer_coef=0.001)\n",
    "bgf.fit(cltv_df['frequency'],\n",
    "        cltv_df['recency_cltv_weekly'],\n",
    "        cltv_df['T_weekly'])\n"
   ]
  },
  {
   "cell_type": "markdown",
   "id": "bd4617f7",
   "metadata": {
    "papermill": {
     "duration": 0.028815,
     "end_time": "2022-10-30T15:38:45.039158",
     "exception": false,
     "start_time": "2022-10-30T15:38:45.010343",
     "status": "completed"
    },
    "tags": []
   },
   "source": [
    "Expected sale values of customers are calculated for following 3 month interval."
   ]
  },
  {
   "cell_type": "code",
   "execution_count": 16,
   "id": "c18ea0f0",
   "metadata": {
    "execution": {
     "iopub.execute_input": "2022-10-30T15:38:45.095661Z",
     "iopub.status.busy": "2022-10-30T15:38:45.095203Z",
     "iopub.status.idle": "2022-10-30T15:38:45.123062Z",
     "shell.execute_reply": "2022-10-30T15:38:45.122148Z"
    },
    "papermill": {
     "duration": 0.056177,
     "end_time": "2022-10-30T15:38:45.125245",
     "exception": false,
     "start_time": "2022-10-30T15:38:45.069068",
     "status": "completed"
    },
    "tags": []
   },
   "outputs": [
    {
     "data": {
      "text/html": [
       "<div>\n",
       "<style scoped>\n",
       "    .dataframe tbody tr th:only-of-type {\n",
       "        vertical-align: middle;\n",
       "    }\n",
       "\n",
       "    .dataframe tbody tr th {\n",
       "        vertical-align: top;\n",
       "    }\n",
       "\n",
       "    .dataframe thead th {\n",
       "        text-align: right;\n",
       "    }\n",
       "</style>\n",
       "<table border=\"1\" class=\"dataframe\">\n",
       "  <thead>\n",
       "    <tr style=\"text-align: right;\">\n",
       "      <th></th>\n",
       "      <th>customer_id</th>\n",
       "      <th>recency_cltv_weekly</th>\n",
       "      <th>T_weekly</th>\n",
       "      <th>frequency</th>\n",
       "      <th>monetary_cltv_avg</th>\n",
       "      <th>exp_sales_3_month</th>\n",
       "    </tr>\n",
       "  </thead>\n",
       "  <tbody>\n",
       "    <tr>\n",
       "      <th>0</th>\n",
       "      <td>cc294636-19f0-11eb-8d74-000d3a38a36f</td>\n",
       "      <td>17.0000</td>\n",
       "      <td>30.5714</td>\n",
       "      <td>5.0000</td>\n",
       "      <td>187.8740</td>\n",
       "      <td>0.9739</td>\n",
       "    </tr>\n",
       "    <tr>\n",
       "      <th>1</th>\n",
       "      <td>f431bd5a-ab7b-11e9-a2fc-000d3a38a36f</td>\n",
       "      <td>209.8571</td>\n",
       "      <td>224.8571</td>\n",
       "      <td>21.0000</td>\n",
       "      <td>95.8833</td>\n",
       "      <td>0.9832</td>\n",
       "    </tr>\n",
       "    <tr>\n",
       "      <th>2</th>\n",
       "      <td>69b69676-1a40-11ea-941b-000d3a38a36f</td>\n",
       "      <td>52.2857</td>\n",
       "      <td>78.8571</td>\n",
       "      <td>5.0000</td>\n",
       "      <td>117.0640</td>\n",
       "      <td>0.6706</td>\n",
       "    </tr>\n",
       "    <tr>\n",
       "      <th>3</th>\n",
       "      <td>1854e56c-491f-11eb-806e-000d3a38a36f</td>\n",
       "      <td>1.5714</td>\n",
       "      <td>20.8571</td>\n",
       "      <td>2.0000</td>\n",
       "      <td>60.9850</td>\n",
       "      <td>0.7004</td>\n",
       "    </tr>\n",
       "    <tr>\n",
       "      <th>4</th>\n",
       "      <td>d6ea1074-f1f5-11e9-9346-000d3a38a36f</td>\n",
       "      <td>83.1429</td>\n",
       "      <td>95.4286</td>\n",
       "      <td>2.0000</td>\n",
       "      <td>104.9900</td>\n",
       "      <td>0.3960</td>\n",
       "    </tr>\n",
       "  </tbody>\n",
       "</table>\n",
       "</div>"
      ],
      "text/plain": [
       "                            customer_id  recency_cltv_weekly  T_weekly  frequency  monetary_cltv_avg  exp_sales_3_month\n",
       "0  cc294636-19f0-11eb-8d74-000d3a38a36f              17.0000   30.5714     5.0000           187.8740             0.9739\n",
       "1  f431bd5a-ab7b-11e9-a2fc-000d3a38a36f             209.8571  224.8571    21.0000            95.8833             0.9832\n",
       "2  69b69676-1a40-11ea-941b-000d3a38a36f              52.2857   78.8571     5.0000           117.0640             0.6706\n",
       "3  1854e56c-491f-11eb-806e-000d3a38a36f               1.5714   20.8571     2.0000            60.9850             0.7004\n",
       "4  d6ea1074-f1f5-11e9-9346-000d3a38a36f              83.1429   95.4286     2.0000           104.9900             0.3960"
      ]
     },
     "execution_count": 16,
     "metadata": {},
     "output_type": "execute_result"
    }
   ],
   "source": [
    "cltv_df[\"exp_sales_3_month\"] = bgf.predict(4*3,\n",
    "                                       cltv_df['frequency'],\n",
    "                                       cltv_df['recency_cltv_weekly'],\n",
    "                                       cltv_df['T_weekly'])\n",
    "cltv_df.head()"
   ]
  },
  {
   "cell_type": "markdown",
   "id": "37b7b761",
   "metadata": {
    "papermill": {
     "duration": 0.011603,
     "end_time": "2022-10-30T15:38:45.149252",
     "exception": false,
     "start_time": "2022-10-30T15:38:45.137649",
     "status": "completed"
    },
    "tags": []
   },
   "source": [
    "Expected sale values of customers are calculated for following 6 month interval."
   ]
  },
  {
   "cell_type": "code",
   "execution_count": 17,
   "id": "c649298d",
   "metadata": {
    "execution": {
     "iopub.execute_input": "2022-10-30T15:38:45.175658Z",
     "iopub.status.busy": "2022-10-30T15:38:45.174703Z",
     "iopub.status.idle": "2022-10-30T15:38:45.201931Z",
     "shell.execute_reply": "2022-10-30T15:38:45.200777Z"
    },
    "papermill": {
     "duration": 0.042808,
     "end_time": "2022-10-30T15:38:45.204325",
     "exception": false,
     "start_time": "2022-10-30T15:38:45.161517",
     "status": "completed"
    },
    "tags": []
   },
   "outputs": [
    {
     "data": {
      "text/html": [
       "<div>\n",
       "<style scoped>\n",
       "    .dataframe tbody tr th:only-of-type {\n",
       "        vertical-align: middle;\n",
       "    }\n",
       "\n",
       "    .dataframe tbody tr th {\n",
       "        vertical-align: top;\n",
       "    }\n",
       "\n",
       "    .dataframe thead th {\n",
       "        text-align: right;\n",
       "    }\n",
       "</style>\n",
       "<table border=\"1\" class=\"dataframe\">\n",
       "  <thead>\n",
       "    <tr style=\"text-align: right;\">\n",
       "      <th></th>\n",
       "      <th>customer_id</th>\n",
       "      <th>recency_cltv_weekly</th>\n",
       "      <th>T_weekly</th>\n",
       "      <th>frequency</th>\n",
       "      <th>monetary_cltv_avg</th>\n",
       "      <th>exp_sales_3_month</th>\n",
       "      <th>exp_sales_6_month</th>\n",
       "    </tr>\n",
       "  </thead>\n",
       "  <tbody>\n",
       "    <tr>\n",
       "      <th>0</th>\n",
       "      <td>cc294636-19f0-11eb-8d74-000d3a38a36f</td>\n",
       "      <td>17.0000</td>\n",
       "      <td>30.5714</td>\n",
       "      <td>5.0000</td>\n",
       "      <td>187.8740</td>\n",
       "      <td>0.9739</td>\n",
       "      <td>1.9479</td>\n",
       "    </tr>\n",
       "    <tr>\n",
       "      <th>1</th>\n",
       "      <td>f431bd5a-ab7b-11e9-a2fc-000d3a38a36f</td>\n",
       "      <td>209.8571</td>\n",
       "      <td>224.8571</td>\n",
       "      <td>21.0000</td>\n",
       "      <td>95.8833</td>\n",
       "      <td>0.9832</td>\n",
       "      <td>1.9663</td>\n",
       "    </tr>\n",
       "    <tr>\n",
       "      <th>2</th>\n",
       "      <td>69b69676-1a40-11ea-941b-000d3a38a36f</td>\n",
       "      <td>52.2857</td>\n",
       "      <td>78.8571</td>\n",
       "      <td>5.0000</td>\n",
       "      <td>117.0640</td>\n",
       "      <td>0.6706</td>\n",
       "      <td>1.3412</td>\n",
       "    </tr>\n",
       "    <tr>\n",
       "      <th>3</th>\n",
       "      <td>1854e56c-491f-11eb-806e-000d3a38a36f</td>\n",
       "      <td>1.5714</td>\n",
       "      <td>20.8571</td>\n",
       "      <td>2.0000</td>\n",
       "      <td>60.9850</td>\n",
       "      <td>0.7004</td>\n",
       "      <td>1.4008</td>\n",
       "    </tr>\n",
       "    <tr>\n",
       "      <th>4</th>\n",
       "      <td>d6ea1074-f1f5-11e9-9346-000d3a38a36f</td>\n",
       "      <td>83.1429</td>\n",
       "      <td>95.4286</td>\n",
       "      <td>2.0000</td>\n",
       "      <td>104.9900</td>\n",
       "      <td>0.3960</td>\n",
       "      <td>0.7921</td>\n",
       "    </tr>\n",
       "  </tbody>\n",
       "</table>\n",
       "</div>"
      ],
      "text/plain": [
       "                            customer_id  recency_cltv_weekly  T_weekly  frequency  monetary_cltv_avg  exp_sales_3_month  exp_sales_6_month\n",
       "0  cc294636-19f0-11eb-8d74-000d3a38a36f              17.0000   30.5714     5.0000           187.8740             0.9739             1.9479\n",
       "1  f431bd5a-ab7b-11e9-a2fc-000d3a38a36f             209.8571  224.8571    21.0000            95.8833             0.9832             1.9663\n",
       "2  69b69676-1a40-11ea-941b-000d3a38a36f              52.2857   78.8571     5.0000           117.0640             0.6706             1.3412\n",
       "3  1854e56c-491f-11eb-806e-000d3a38a36f               1.5714   20.8571     2.0000            60.9850             0.7004             1.4008\n",
       "4  d6ea1074-f1f5-11e9-9346-000d3a38a36f              83.1429   95.4286     2.0000           104.9900             0.3960             0.7921"
      ]
     },
     "execution_count": 17,
     "metadata": {},
     "output_type": "execute_result"
    }
   ],
   "source": [
    "cltv_df[\"exp_sales_6_month\"] = bgf.predict(4*6,\n",
    "                                       cltv_df['frequency'],\n",
    "                                       cltv_df['recency_cltv_weekly'],\n",
    "                                       cltv_df['T_weekly'])\n",
    "cltv_df.head()"
   ]
  },
  {
   "cell_type": "markdown",
   "id": "243e93ad",
   "metadata": {
    "papermill": {
     "duration": 0.012359,
     "end_time": "2022-10-30T15:38:45.228733",
     "exception": false,
     "start_time": "2022-10-30T15:38:45.216374",
     "status": "completed"
    },
    "tags": []
   },
   "source": [
    "Gamma-Gamma model is fitted and average values of customers are calculated."
   ]
  },
  {
   "cell_type": "code",
   "execution_count": 18,
   "id": "87e043d4",
   "metadata": {
    "execution": {
     "iopub.execute_input": "2022-10-30T15:38:45.256142Z",
     "iopub.status.busy": "2022-10-30T15:38:45.255481Z",
     "iopub.status.idle": "2022-10-30T15:38:45.430145Z",
     "shell.execute_reply": "2022-10-30T15:38:45.429014Z"
    },
    "papermill": {
     "duration": 0.19254,
     "end_time": "2022-10-30T15:38:45.433885",
     "exception": false,
     "start_time": "2022-10-30T15:38:45.241345",
     "status": "completed"
    },
    "tags": []
   },
   "outputs": [
    {
     "data": {
      "text/html": [
       "<div>\n",
       "<style scoped>\n",
       "    .dataframe tbody tr th:only-of-type {\n",
       "        vertical-align: middle;\n",
       "    }\n",
       "\n",
       "    .dataframe tbody tr th {\n",
       "        vertical-align: top;\n",
       "    }\n",
       "\n",
       "    .dataframe thead th {\n",
       "        text-align: right;\n",
       "    }\n",
       "</style>\n",
       "<table border=\"1\" class=\"dataframe\">\n",
       "  <thead>\n",
       "    <tr style=\"text-align: right;\">\n",
       "      <th></th>\n",
       "      <th>customer_id</th>\n",
       "      <th>recency_cltv_weekly</th>\n",
       "      <th>T_weekly</th>\n",
       "      <th>frequency</th>\n",
       "      <th>monetary_cltv_avg</th>\n",
       "      <th>exp_sales_3_month</th>\n",
       "      <th>exp_sales_6_month</th>\n",
       "      <th>exp_average_value</th>\n",
       "    </tr>\n",
       "  </thead>\n",
       "  <tbody>\n",
       "    <tr>\n",
       "      <th>0</th>\n",
       "      <td>cc294636-19f0-11eb-8d74-000d3a38a36f</td>\n",
       "      <td>17.0000</td>\n",
       "      <td>30.5714</td>\n",
       "      <td>5.0000</td>\n",
       "      <td>187.8740</td>\n",
       "      <td>0.9739</td>\n",
       "      <td>1.9479</td>\n",
       "      <td>193.6327</td>\n",
       "    </tr>\n",
       "    <tr>\n",
       "      <th>1</th>\n",
       "      <td>f431bd5a-ab7b-11e9-a2fc-000d3a38a36f</td>\n",
       "      <td>209.8571</td>\n",
       "      <td>224.8571</td>\n",
       "      <td>21.0000</td>\n",
       "      <td>95.8833</td>\n",
       "      <td>0.9832</td>\n",
       "      <td>1.9663</td>\n",
       "      <td>96.6650</td>\n",
       "    </tr>\n",
       "    <tr>\n",
       "      <th>2</th>\n",
       "      <td>69b69676-1a40-11ea-941b-000d3a38a36f</td>\n",
       "      <td>52.2857</td>\n",
       "      <td>78.8571</td>\n",
       "      <td>5.0000</td>\n",
       "      <td>117.0640</td>\n",
       "      <td>0.6706</td>\n",
       "      <td>1.3412</td>\n",
       "      <td>120.9676</td>\n",
       "    </tr>\n",
       "    <tr>\n",
       "      <th>3</th>\n",
       "      <td>1854e56c-491f-11eb-806e-000d3a38a36f</td>\n",
       "      <td>1.5714</td>\n",
       "      <td>20.8571</td>\n",
       "      <td>2.0000</td>\n",
       "      <td>60.9850</td>\n",
       "      <td>0.7004</td>\n",
       "      <td>1.4008</td>\n",
       "      <td>67.3201</td>\n",
       "    </tr>\n",
       "    <tr>\n",
       "      <th>4</th>\n",
       "      <td>d6ea1074-f1f5-11e9-9346-000d3a38a36f</td>\n",
       "      <td>83.1429</td>\n",
       "      <td>95.4286</td>\n",
       "      <td>2.0000</td>\n",
       "      <td>104.9900</td>\n",
       "      <td>0.3960</td>\n",
       "      <td>0.7921</td>\n",
       "      <td>114.3251</td>\n",
       "    </tr>\n",
       "  </tbody>\n",
       "</table>\n",
       "</div>"
      ],
      "text/plain": [
       "                            customer_id  recency_cltv_weekly  T_weekly  frequency  monetary_cltv_avg  exp_sales_3_month  exp_sales_6_month  exp_average_value\n",
       "0  cc294636-19f0-11eb-8d74-000d3a38a36f              17.0000   30.5714     5.0000           187.8740             0.9739             1.9479           193.6327\n",
       "1  f431bd5a-ab7b-11e9-a2fc-000d3a38a36f             209.8571  224.8571    21.0000            95.8833             0.9832             1.9663            96.6650\n",
       "2  69b69676-1a40-11ea-941b-000d3a38a36f              52.2857   78.8571     5.0000           117.0640             0.6706             1.3412           120.9676\n",
       "3  1854e56c-491f-11eb-806e-000d3a38a36f               1.5714   20.8571     2.0000            60.9850             0.7004             1.4008            67.3201\n",
       "4  d6ea1074-f1f5-11e9-9346-000d3a38a36f              83.1429   95.4286     2.0000           104.9900             0.3960             0.7921           114.3251"
      ]
     },
     "execution_count": 18,
     "metadata": {},
     "output_type": "execute_result"
    }
   ],
   "source": [
    "ggf = GammaGammaFitter(penalizer_coef=0.01)\n",
    "ggf.fit(cltv_df['frequency'],\n",
    "        cltv_df['monetary_cltv_avg'])\n",
    "\n",
    "cltv_df[\"exp_average_value\"] = ggf.conditional_expected_average_profit(cltv_df['frequency'],\n",
    "                                                                       cltv_df['monetary_cltv_avg'])\n",
    "cltv_df.head()"
   ]
  },
  {
   "cell_type": "markdown",
   "id": "3bb9d9bd",
   "metadata": {
    "papermill": {
     "duration": 0.030779,
     "end_time": "2022-10-30T15:38:45.496242",
     "exception": false,
     "start_time": "2022-10-30T15:38:45.465463",
     "status": "completed"
    },
    "tags": []
   },
   "source": [
    "CLTV values for 6 months are calculated."
   ]
  },
  {
   "cell_type": "code",
   "execution_count": 19,
   "id": "5d2e343c",
   "metadata": {
    "execution": {
     "iopub.execute_input": "2022-10-30T15:38:45.542526Z",
     "iopub.status.busy": "2022-10-30T15:38:45.542128Z",
     "iopub.status.idle": "2022-10-30T15:38:45.727635Z",
     "shell.execute_reply": "2022-10-30T15:38:45.726415Z"
    },
    "papermill": {
     "duration": 0.202865,
     "end_time": "2022-10-30T15:38:45.730352",
     "exception": false,
     "start_time": "2022-10-30T15:38:45.527487",
     "status": "completed"
    },
    "tags": []
   },
   "outputs": [
    {
     "data": {
      "text/html": [
       "<div>\n",
       "<style scoped>\n",
       "    .dataframe tbody tr th:only-of-type {\n",
       "        vertical-align: middle;\n",
       "    }\n",
       "\n",
       "    .dataframe tbody tr th {\n",
       "        vertical-align: top;\n",
       "    }\n",
       "\n",
       "    .dataframe thead th {\n",
       "        text-align: right;\n",
       "    }\n",
       "</style>\n",
       "<table border=\"1\" class=\"dataframe\">\n",
       "  <thead>\n",
       "    <tr style=\"text-align: right;\">\n",
       "      <th></th>\n",
       "      <th>customer_id</th>\n",
       "      <th>recency_cltv_weekly</th>\n",
       "      <th>T_weekly</th>\n",
       "      <th>frequency</th>\n",
       "      <th>monetary_cltv_avg</th>\n",
       "      <th>exp_sales_3_month</th>\n",
       "      <th>exp_sales_6_month</th>\n",
       "      <th>exp_average_value</th>\n",
       "      <th>cltv</th>\n",
       "    </tr>\n",
       "  </thead>\n",
       "  <tbody>\n",
       "    <tr>\n",
       "      <th>0</th>\n",
       "      <td>cc294636-19f0-11eb-8d74-000d3a38a36f</td>\n",
       "      <td>17.0000</td>\n",
       "      <td>30.5714</td>\n",
       "      <td>5.0000</td>\n",
       "      <td>187.8740</td>\n",
       "      <td>0.9739</td>\n",
       "      <td>1.9479</td>\n",
       "      <td>193.6327</td>\n",
       "      <td>395.7332</td>\n",
       "    </tr>\n",
       "    <tr>\n",
       "      <th>1</th>\n",
       "      <td>f431bd5a-ab7b-11e9-a2fc-000d3a38a36f</td>\n",
       "      <td>209.8571</td>\n",
       "      <td>224.8571</td>\n",
       "      <td>21.0000</td>\n",
       "      <td>95.8833</td>\n",
       "      <td>0.9832</td>\n",
       "      <td>1.9663</td>\n",
       "      <td>96.6650</td>\n",
       "      <td>199.4307</td>\n",
       "    </tr>\n",
       "    <tr>\n",
       "      <th>2</th>\n",
       "      <td>69b69676-1a40-11ea-941b-000d3a38a36f</td>\n",
       "      <td>52.2857</td>\n",
       "      <td>78.8571</td>\n",
       "      <td>5.0000</td>\n",
       "      <td>117.0640</td>\n",
       "      <td>0.6706</td>\n",
       "      <td>1.3412</td>\n",
       "      <td>120.9676</td>\n",
       "      <td>170.2242</td>\n",
       "    </tr>\n",
       "    <tr>\n",
       "      <th>3</th>\n",
       "      <td>1854e56c-491f-11eb-806e-000d3a38a36f</td>\n",
       "      <td>1.5714</td>\n",
       "      <td>20.8571</td>\n",
       "      <td>2.0000</td>\n",
       "      <td>60.9850</td>\n",
       "      <td>0.7004</td>\n",
       "      <td>1.4008</td>\n",
       "      <td>67.3201</td>\n",
       "      <td>98.9455</td>\n",
       "    </tr>\n",
       "    <tr>\n",
       "      <th>4</th>\n",
       "      <td>d6ea1074-f1f5-11e9-9346-000d3a38a36f</td>\n",
       "      <td>83.1429</td>\n",
       "      <td>95.4286</td>\n",
       "      <td>2.0000</td>\n",
       "      <td>104.9900</td>\n",
       "      <td>0.3960</td>\n",
       "      <td>0.7921</td>\n",
       "      <td>114.3251</td>\n",
       "      <td>95.0117</td>\n",
       "    </tr>\n",
       "  </tbody>\n",
       "</table>\n",
       "</div>"
      ],
      "text/plain": [
       "                            customer_id  recency_cltv_weekly  T_weekly  frequency  monetary_cltv_avg  exp_sales_3_month  exp_sales_6_month  exp_average_value     cltv\n",
       "0  cc294636-19f0-11eb-8d74-000d3a38a36f              17.0000   30.5714     5.0000           187.8740             0.9739             1.9479           193.6327 395.7332\n",
       "1  f431bd5a-ab7b-11e9-a2fc-000d3a38a36f             209.8571  224.8571    21.0000            95.8833             0.9832             1.9663            96.6650 199.4307\n",
       "2  69b69676-1a40-11ea-941b-000d3a38a36f              52.2857   78.8571     5.0000           117.0640             0.6706             1.3412           120.9676 170.2242\n",
       "3  1854e56c-491f-11eb-806e-000d3a38a36f               1.5714   20.8571     2.0000            60.9850             0.7004             1.4008            67.3201  98.9455\n",
       "4  d6ea1074-f1f5-11e9-9346-000d3a38a36f              83.1429   95.4286     2.0000           104.9900             0.3960             0.7921           114.3251  95.0117"
      ]
     },
     "execution_count": 19,
     "metadata": {},
     "output_type": "execute_result"
    }
   ],
   "source": [
    "cltv = ggf.customer_lifetime_value(bgf,\n",
    "                                   cltv_df['frequency'],\n",
    "                                   cltv_df['recency_cltv_weekly'],\n",
    "                                   cltv_df['T_weekly'],\n",
    "                                   cltv_df['monetary_cltv_avg'],\n",
    "                                   time=6, # in months\n",
    "                                   freq=\"W\", # Frequency type of T\n",
    "                                   discount_rate=0.01)\n",
    "cltv_df[\"cltv\"] = cltv\n",
    "\n",
    "cltv_df.head()\n"
   ]
  },
  {
   "cell_type": "markdown",
   "id": "ac4470bb",
   "metadata": {
    "papermill": {
     "duration": 0.012166,
     "end_time": "2022-10-30T15:38:45.755358",
     "exception": false,
     "start_time": "2022-10-30T15:38:45.743192",
     "status": "completed"
    },
    "tags": []
   },
   "source": [
    "The customers with top 20 CLTV values are presented."
   ]
  },
  {
   "cell_type": "code",
   "execution_count": 20,
   "id": "439f259e",
   "metadata": {
    "execution": {
     "iopub.execute_input": "2022-10-30T15:38:45.782564Z",
     "iopub.status.busy": "2022-10-30T15:38:45.782114Z",
     "iopub.status.idle": "2022-10-30T15:38:45.805472Z",
     "shell.execute_reply": "2022-10-30T15:38:45.804184Z"
    },
    "papermill": {
     "duration": 0.040194,
     "end_time": "2022-10-30T15:38:45.808218",
     "exception": false,
     "start_time": "2022-10-30T15:38:45.768024",
     "status": "completed"
    },
    "tags": []
   },
   "outputs": [
    {
     "data": {
      "text/html": [
       "<div>\n",
       "<style scoped>\n",
       "    .dataframe tbody tr th:only-of-type {\n",
       "        vertical-align: middle;\n",
       "    }\n",
       "\n",
       "    .dataframe tbody tr th {\n",
       "        vertical-align: top;\n",
       "    }\n",
       "\n",
       "    .dataframe thead th {\n",
       "        text-align: right;\n",
       "    }\n",
       "</style>\n",
       "<table border=\"1\" class=\"dataframe\">\n",
       "  <thead>\n",
       "    <tr style=\"text-align: right;\">\n",
       "      <th></th>\n",
       "      <th>customer_id</th>\n",
       "      <th>recency_cltv_weekly</th>\n",
       "      <th>T_weekly</th>\n",
       "      <th>frequency</th>\n",
       "      <th>monetary_cltv_avg</th>\n",
       "      <th>exp_sales_3_month</th>\n",
       "      <th>exp_sales_6_month</th>\n",
       "      <th>exp_average_value</th>\n",
       "      <th>cltv</th>\n",
       "    </tr>\n",
       "  </thead>\n",
       "  <tbody>\n",
       "    <tr>\n",
       "      <th>9055</th>\n",
       "      <td>47a642fe-975b-11eb-8c2a-000d3a38a36f</td>\n",
       "      <td>2.8571</td>\n",
       "      <td>7.8571</td>\n",
       "      <td>4.0000</td>\n",
       "      <td>1401.8000</td>\n",
       "      <td>1.0944</td>\n",
       "      <td>2.1888</td>\n",
       "      <td>1449.0605</td>\n",
       "      <td>3327.7770</td>\n",
       "    </tr>\n",
       "    <tr>\n",
       "      <th>13880</th>\n",
       "      <td>7137a5c0-7aad-11ea-8f20-000d3a38a36f</td>\n",
       "      <td>6.1429</td>\n",
       "      <td>13.1429</td>\n",
       "      <td>11.0000</td>\n",
       "      <td>758.0855</td>\n",
       "      <td>1.9701</td>\n",
       "      <td>3.9402</td>\n",
       "      <td>767.3606</td>\n",
       "      <td>3172.3944</td>\n",
       "    </tr>\n",
       "    <tr>\n",
       "      <th>17323</th>\n",
       "      <td>f59053e2-a503-11e9-a2fc-000d3a38a36f</td>\n",
       "      <td>51.7143</td>\n",
       "      <td>101.0000</td>\n",
       "      <td>7.0000</td>\n",
       "      <td>1106.4671</td>\n",
       "      <td>0.7222</td>\n",
       "      <td>1.4445</td>\n",
       "      <td>1127.6115</td>\n",
       "      <td>1708.9821</td>\n",
       "    </tr>\n",
       "    <tr>\n",
       "      <th>12438</th>\n",
       "      <td>625f40a2-5bd2-11ea-98b0-000d3a38a36f</td>\n",
       "      <td>74.2857</td>\n",
       "      <td>74.5714</td>\n",
       "      <td>16.0000</td>\n",
       "      <td>501.8737</td>\n",
       "      <td>1.5653</td>\n",
       "      <td>3.1306</td>\n",
       "      <td>506.1667</td>\n",
       "      <td>1662.6135</td>\n",
       "    </tr>\n",
       "    <tr>\n",
       "      <th>7330</th>\n",
       "      <td>a4d534a2-5b1b-11eb-8dbd-000d3a38a36f</td>\n",
       "      <td>62.7143</td>\n",
       "      <td>67.2857</td>\n",
       "      <td>52.0000</td>\n",
       "      <td>166.2246</td>\n",
       "      <td>4.6561</td>\n",
       "      <td>9.3123</td>\n",
       "      <td>166.7123</td>\n",
       "      <td>1628.8874</td>\n",
       "    </tr>\n",
       "    <tr>\n",
       "      <th>8868</th>\n",
       "      <td>9ce6e520-89b0-11ea-a6e7-000d3a38a36f</td>\n",
       "      <td>3.4286</td>\n",
       "      <td>34.4286</td>\n",
       "      <td>8.0000</td>\n",
       "      <td>601.2262</td>\n",
       "      <td>1.2655</td>\n",
       "      <td>2.5309</td>\n",
       "      <td>611.4926</td>\n",
       "      <td>1623.8127</td>\n",
       "    </tr>\n",
       "    <tr>\n",
       "      <th>6402</th>\n",
       "      <td>851de3b4-8f0c-11eb-8cb8-000d3a38a36f</td>\n",
       "      <td>8.2857</td>\n",
       "      <td>9.4286</td>\n",
       "      <td>2.0000</td>\n",
       "      <td>862.6900</td>\n",
       "      <td>0.7939</td>\n",
       "      <td>1.5878</td>\n",
       "      <td>923.6800</td>\n",
       "      <td>1538.8559</td>\n",
       "    </tr>\n",
       "    <tr>\n",
       "      <th>6666</th>\n",
       "      <td>53fe00d4-7b7a-11eb-960b-000d3a38a36f</td>\n",
       "      <td>9.7143</td>\n",
       "      <td>13.0000</td>\n",
       "      <td>17.0000</td>\n",
       "      <td>259.8653</td>\n",
       "      <td>2.7807</td>\n",
       "      <td>5.5614</td>\n",
       "      <td>262.0729</td>\n",
       "      <td>1529.2280</td>\n",
       "    </tr>\n",
       "    <tr>\n",
       "      <th>19538</th>\n",
       "      <td>55d54d9e-8ac7-11ea-8ec0-000d3a38a36f</td>\n",
       "      <td>52.5714</td>\n",
       "      <td>58.7143</td>\n",
       "      <td>31.0000</td>\n",
       "      <td>228.5300</td>\n",
       "      <td>3.0838</td>\n",
       "      <td>6.1676</td>\n",
       "      <td>229.6069</td>\n",
       "      <td>1485.8192</td>\n",
       "    </tr>\n",
       "    <tr>\n",
       "      <th>14858</th>\n",
       "      <td>031b2954-6d28-11eb-99c4-000d3a38a36f</td>\n",
       "      <td>14.8571</td>\n",
       "      <td>15.5714</td>\n",
       "      <td>3.0000</td>\n",
       "      <td>743.5867</td>\n",
       "      <td>0.8716</td>\n",
       "      <td>1.7431</td>\n",
       "      <td>778.0504</td>\n",
       "      <td>1422.9997</td>\n",
       "    </tr>\n",
       "    <tr>\n",
       "      <th>17963</th>\n",
       "      <td>8fd88976-6708-11ea-9d38-000d3a38a36f</td>\n",
       "      <td>50.2857</td>\n",
       "      <td>63.2857</td>\n",
       "      <td>7.0000</td>\n",
       "      <td>694.1986</td>\n",
       "      <td>0.9176</td>\n",
       "      <td>1.8351</td>\n",
       "      <td>707.6856</td>\n",
       "      <td>1362.6072</td>\n",
       "    </tr>\n",
       "    <tr>\n",
       "      <th>15516</th>\n",
       "      <td>9083981a-f59e-11e9-841e-000d3a38a36f</td>\n",
       "      <td>63.5714</td>\n",
       "      <td>83.8571</td>\n",
       "      <td>4.0000</td>\n",
       "      <td>1090.3600</td>\n",
       "      <td>0.5746</td>\n",
       "      <td>1.1493</td>\n",
       "      <td>1127.3545</td>\n",
       "      <td>1359.4397</td>\n",
       "    </tr>\n",
       "    <tr>\n",
       "      <th>6717</th>\n",
       "      <td>40b4f318-9dfb-11eb-9c47-000d3a38a36f</td>\n",
       "      <td>27.1429</td>\n",
       "      <td>33.8571</td>\n",
       "      <td>7.0000</td>\n",
       "      <td>544.7000</td>\n",
       "      <td>1.1630</td>\n",
       "      <td>2.3259</td>\n",
       "      <td>555.4103</td>\n",
       "      <td>1355.4352</td>\n",
       "    </tr>\n",
       "    <tr>\n",
       "      <th>4157</th>\n",
       "      <td>7eed6468-4540-11ea-acaf-000d3a38a36f</td>\n",
       "      <td>89.1429</td>\n",
       "      <td>90.0000</td>\n",
       "      <td>27.0000</td>\n",
       "      <td>289.7641</td>\n",
       "      <td>2.2143</td>\n",
       "      <td>4.4287</td>\n",
       "      <td>291.2922</td>\n",
       "      <td>1353.5337</td>\n",
       "    </tr>\n",
       "    <tr>\n",
       "      <th>4735</th>\n",
       "      <td>dbabb58e-6312-11ea-a6dc-000d3a38a36f</td>\n",
       "      <td>61.2857</td>\n",
       "      <td>64.2857</td>\n",
       "      <td>13.0000</td>\n",
       "      <td>442.1154</td>\n",
       "      <td>1.4236</td>\n",
       "      <td>2.8473</td>\n",
       "      <td>446.8162</td>\n",
       "      <td>1334.8251</td>\n",
       "    </tr>\n",
       "    <tr>\n",
       "      <th>11694</th>\n",
       "      <td>90f1b7f2-bbad-11ea-a0c9-000d3a38a36f</td>\n",
       "      <td>47.2857</td>\n",
       "      <td>48.0000</td>\n",
       "      <td>6.0000</td>\n",
       "      <td>647.3450</td>\n",
       "      <td>0.9339</td>\n",
       "      <td>1.8677</td>\n",
       "      <td>662.1103</td>\n",
       "      <td>1297.5186</td>\n",
       "    </tr>\n",
       "    <tr>\n",
       "      <th>11179</th>\n",
       "      <td>d2e74a36-3228-11eb-860c-000d3a38a36f</td>\n",
       "      <td>1.1429</td>\n",
       "      <td>26.2857</td>\n",
       "      <td>3.0000</td>\n",
       "      <td>750.5700</td>\n",
       "      <td>0.7804</td>\n",
       "      <td>1.5608</td>\n",
       "      <td>785.3440</td>\n",
       "      <td>1286.1378</td>\n",
       "    </tr>\n",
       "    <tr>\n",
       "      <th>1853</th>\n",
       "      <td>f02473b0-43c3-11eb-806e-000d3a38a36f</td>\n",
       "      <td>17.2857</td>\n",
       "      <td>23.1429</td>\n",
       "      <td>2.0000</td>\n",
       "      <td>835.8750</td>\n",
       "      <td>0.6843</td>\n",
       "      <td>1.3686</td>\n",
       "      <td>895.0369</td>\n",
       "      <td>1285.2277</td>\n",
       "    </tr>\n",
       "    <tr>\n",
       "      <th>5775</th>\n",
       "      <td>e31293ac-d63a-11e9-93bc-000d3a38a36f</td>\n",
       "      <td>91.7143</td>\n",
       "      <td>93.1429</td>\n",
       "      <td>8.0000</td>\n",
       "      <td>727.0862</td>\n",
       "      <td>0.8266</td>\n",
       "      <td>1.6533</td>\n",
       "      <td>739.3933</td>\n",
       "      <td>1282.5758</td>\n",
       "    </tr>\n",
       "    <tr>\n",
       "      <th>7312</th>\n",
       "      <td>90befc98-925a-11eb-b584-000d3a38a36f</td>\n",
       "      <td>4.1429</td>\n",
       "      <td>8.8571</td>\n",
       "      <td>6.0000</td>\n",
       "      <td>431.3283</td>\n",
       "      <td>1.3638</td>\n",
       "      <td>2.7275</td>\n",
       "      <td>441.3982</td>\n",
       "      <td>1263.1912</td>\n",
       "    </tr>\n",
       "  </tbody>\n",
       "</table>\n",
       "</div>"
      ],
      "text/plain": [
       "                                customer_id  recency_cltv_weekly  T_weekly  frequency  monetary_cltv_avg  exp_sales_3_month  exp_sales_6_month  exp_average_value      cltv\n",
       "9055   47a642fe-975b-11eb-8c2a-000d3a38a36f               2.8571    7.8571     4.0000          1401.8000             1.0944             2.1888          1449.0605 3327.7770\n",
       "13880  7137a5c0-7aad-11ea-8f20-000d3a38a36f               6.1429   13.1429    11.0000           758.0855             1.9701             3.9402           767.3606 3172.3944\n",
       "17323  f59053e2-a503-11e9-a2fc-000d3a38a36f              51.7143  101.0000     7.0000          1106.4671             0.7222             1.4445          1127.6115 1708.9821\n",
       "12438  625f40a2-5bd2-11ea-98b0-000d3a38a36f              74.2857   74.5714    16.0000           501.8737             1.5653             3.1306           506.1667 1662.6135\n",
       "7330   a4d534a2-5b1b-11eb-8dbd-000d3a38a36f              62.7143   67.2857    52.0000           166.2246             4.6561             9.3123           166.7123 1628.8874\n",
       "8868   9ce6e520-89b0-11ea-a6e7-000d3a38a36f               3.4286   34.4286     8.0000           601.2262             1.2655             2.5309           611.4926 1623.8127\n",
       "6402   851de3b4-8f0c-11eb-8cb8-000d3a38a36f               8.2857    9.4286     2.0000           862.6900             0.7939             1.5878           923.6800 1538.8559\n",
       "6666   53fe00d4-7b7a-11eb-960b-000d3a38a36f               9.7143   13.0000    17.0000           259.8653             2.7807             5.5614           262.0729 1529.2280\n",
       "19538  55d54d9e-8ac7-11ea-8ec0-000d3a38a36f              52.5714   58.7143    31.0000           228.5300             3.0838             6.1676           229.6069 1485.8192\n",
       "14858  031b2954-6d28-11eb-99c4-000d3a38a36f              14.8571   15.5714     3.0000           743.5867             0.8716             1.7431           778.0504 1422.9997\n",
       "17963  8fd88976-6708-11ea-9d38-000d3a38a36f              50.2857   63.2857     7.0000           694.1986             0.9176             1.8351           707.6856 1362.6072\n",
       "15516  9083981a-f59e-11e9-841e-000d3a38a36f              63.5714   83.8571     4.0000          1090.3600             0.5746             1.1493          1127.3545 1359.4397\n",
       "6717   40b4f318-9dfb-11eb-9c47-000d3a38a36f              27.1429   33.8571     7.0000           544.7000             1.1630             2.3259           555.4103 1355.4352\n",
       "4157   7eed6468-4540-11ea-acaf-000d3a38a36f              89.1429   90.0000    27.0000           289.7641             2.2143             4.4287           291.2922 1353.5337\n",
       "4735   dbabb58e-6312-11ea-a6dc-000d3a38a36f              61.2857   64.2857    13.0000           442.1154             1.4236             2.8473           446.8162 1334.8251\n",
       "11694  90f1b7f2-bbad-11ea-a0c9-000d3a38a36f              47.2857   48.0000     6.0000           647.3450             0.9339             1.8677           662.1103 1297.5186\n",
       "11179  d2e74a36-3228-11eb-860c-000d3a38a36f               1.1429   26.2857     3.0000           750.5700             0.7804             1.5608           785.3440 1286.1378\n",
       "1853   f02473b0-43c3-11eb-806e-000d3a38a36f              17.2857   23.1429     2.0000           835.8750             0.6843             1.3686           895.0369 1285.2277\n",
       "5775   e31293ac-d63a-11e9-93bc-000d3a38a36f              91.7143   93.1429     8.0000           727.0862             0.8266             1.6533           739.3933 1282.5758\n",
       "7312   90befc98-925a-11eb-b584-000d3a38a36f               4.1429    8.8571     6.0000           431.3283             1.3638             2.7275           441.3982 1263.1912"
      ]
     },
     "execution_count": 20,
     "metadata": {},
     "output_type": "execute_result"
    }
   ],
   "source": [
    "cltv_df.sort_values(\"cltv\",ascending=False)[:20]"
   ]
  },
  {
   "cell_type": "markdown",
   "id": "4fd3fc9d",
   "metadata": {
    "papermill": {
     "duration": 0.013549,
     "end_time": "2022-10-30T15:38:45.835575",
     "exception": false,
     "start_time": "2022-10-30T15:38:45.822026",
     "status": "completed"
    },
    "tags": []
   },
   "source": [
    "Customers are segmented to 4 groups according to their 6 month CLTV values"
   ]
  },
  {
   "cell_type": "code",
   "execution_count": 21,
   "id": "3e33c14a",
   "metadata": {
    "execution": {
     "iopub.execute_input": "2022-10-30T15:38:45.864119Z",
     "iopub.status.busy": "2022-10-30T15:38:45.863470Z",
     "iopub.status.idle": "2022-10-30T15:38:45.884667Z",
     "shell.execute_reply": "2022-10-30T15:38:45.883720Z"
    },
    "papermill": {
     "duration": 0.0382,
     "end_time": "2022-10-30T15:38:45.887124",
     "exception": false,
     "start_time": "2022-10-30T15:38:45.848924",
     "status": "completed"
    },
    "tags": []
   },
   "outputs": [
    {
     "data": {
      "text/html": [
       "<div>\n",
       "<style scoped>\n",
       "    .dataframe tbody tr th:only-of-type {\n",
       "        vertical-align: middle;\n",
       "    }\n",
       "\n",
       "    .dataframe tbody tr th {\n",
       "        vertical-align: top;\n",
       "    }\n",
       "\n",
       "    .dataframe thead th {\n",
       "        text-align: right;\n",
       "    }\n",
       "</style>\n",
       "<table border=\"1\" class=\"dataframe\">\n",
       "  <thead>\n",
       "    <tr style=\"text-align: right;\">\n",
       "      <th></th>\n",
       "      <th>customer_id</th>\n",
       "      <th>recency_cltv_weekly</th>\n",
       "      <th>T_weekly</th>\n",
       "      <th>frequency</th>\n",
       "      <th>monetary_cltv_avg</th>\n",
       "      <th>exp_sales_3_month</th>\n",
       "      <th>exp_sales_6_month</th>\n",
       "      <th>exp_average_value</th>\n",
       "      <th>cltv</th>\n",
       "      <th>cltv_segment</th>\n",
       "    </tr>\n",
       "  </thead>\n",
       "  <tbody>\n",
       "    <tr>\n",
       "      <th>0</th>\n",
       "      <td>cc294636-19f0-11eb-8d74-000d3a38a36f</td>\n",
       "      <td>17.0000</td>\n",
       "      <td>30.5714</td>\n",
       "      <td>5.0000</td>\n",
       "      <td>187.8740</td>\n",
       "      <td>0.9739</td>\n",
       "      <td>1.9479</td>\n",
       "      <td>193.6327</td>\n",
       "      <td>395.7332</td>\n",
       "      <td>A</td>\n",
       "    </tr>\n",
       "    <tr>\n",
       "      <th>1</th>\n",
       "      <td>f431bd5a-ab7b-11e9-a2fc-000d3a38a36f</td>\n",
       "      <td>209.8571</td>\n",
       "      <td>224.8571</td>\n",
       "      <td>21.0000</td>\n",
       "      <td>95.8833</td>\n",
       "      <td>0.9832</td>\n",
       "      <td>1.9663</td>\n",
       "      <td>96.6650</td>\n",
       "      <td>199.4307</td>\n",
       "      <td>B</td>\n",
       "    </tr>\n",
       "    <tr>\n",
       "      <th>2</th>\n",
       "      <td>69b69676-1a40-11ea-941b-000d3a38a36f</td>\n",
       "      <td>52.2857</td>\n",
       "      <td>78.8571</td>\n",
       "      <td>5.0000</td>\n",
       "      <td>117.0640</td>\n",
       "      <td>0.6706</td>\n",
       "      <td>1.3412</td>\n",
       "      <td>120.9676</td>\n",
       "      <td>170.2242</td>\n",
       "      <td>B</td>\n",
       "    </tr>\n",
       "    <tr>\n",
       "      <th>3</th>\n",
       "      <td>1854e56c-491f-11eb-806e-000d3a38a36f</td>\n",
       "      <td>1.5714</td>\n",
       "      <td>20.8571</td>\n",
       "      <td>2.0000</td>\n",
       "      <td>60.9850</td>\n",
       "      <td>0.7004</td>\n",
       "      <td>1.4008</td>\n",
       "      <td>67.3201</td>\n",
       "      <td>98.9455</td>\n",
       "      <td>D</td>\n",
       "    </tr>\n",
       "    <tr>\n",
       "      <th>4</th>\n",
       "      <td>d6ea1074-f1f5-11e9-9346-000d3a38a36f</td>\n",
       "      <td>83.1429</td>\n",
       "      <td>95.4286</td>\n",
       "      <td>2.0000</td>\n",
       "      <td>104.9900</td>\n",
       "      <td>0.3960</td>\n",
       "      <td>0.7921</td>\n",
       "      <td>114.3251</td>\n",
       "      <td>95.0117</td>\n",
       "      <td>D</td>\n",
       "    </tr>\n",
       "  </tbody>\n",
       "</table>\n",
       "</div>"
      ],
      "text/plain": [
       "                            customer_id  recency_cltv_weekly  T_weekly  frequency  monetary_cltv_avg  exp_sales_3_month  exp_sales_6_month  exp_average_value     cltv cltv_segment\n",
       "0  cc294636-19f0-11eb-8d74-000d3a38a36f              17.0000   30.5714     5.0000           187.8740             0.9739             1.9479           193.6327 395.7332            A\n",
       "1  f431bd5a-ab7b-11e9-a2fc-000d3a38a36f             209.8571  224.8571    21.0000            95.8833             0.9832             1.9663            96.6650 199.4307            B\n",
       "2  69b69676-1a40-11ea-941b-000d3a38a36f              52.2857   78.8571     5.0000           117.0640             0.6706             1.3412           120.9676 170.2242            B\n",
       "3  1854e56c-491f-11eb-806e-000d3a38a36f               1.5714   20.8571     2.0000            60.9850             0.7004             1.4008            67.3201  98.9455            D\n",
       "4  d6ea1074-f1f5-11e9-9346-000d3a38a36f              83.1429   95.4286     2.0000           104.9900             0.3960             0.7921           114.3251  95.0117            D"
      ]
     },
     "execution_count": 21,
     "metadata": {},
     "output_type": "execute_result"
    }
   ],
   "source": [
    "cltv_df[\"cltv_segment\"] = pd.qcut(cltv_df[\"cltv\"], 4, labels=[\"D\", \"C\", \"B\", \"A\"])\n",
    "cltv_df.head()"
   ]
  },
  {
   "cell_type": "markdown",
   "id": "2ff737a2",
   "metadata": {
    "papermill": {
     "duration": 0.013128,
     "end_time": "2022-10-30T15:38:45.913871",
     "exception": false,
     "start_time": "2022-10-30T15:38:45.900743",
     "status": "completed"
    },
    "tags": []
   },
   "source": [
    "The  mean values of recency, frequency and monetary are observed for each segment."
   ]
  },
  {
   "cell_type": "code",
   "execution_count": 22,
   "id": "3a1a6bf4",
   "metadata": {
    "execution": {
     "iopub.execute_input": "2022-10-30T15:38:45.943382Z",
     "iopub.status.busy": "2022-10-30T15:38:45.942575Z",
     "iopub.status.idle": "2022-10-30T15:38:46.020685Z",
     "shell.execute_reply": "2022-10-30T15:38:46.019347Z"
    },
    "papermill": {
     "duration": 0.095669,
     "end_time": "2022-10-30T15:38:46.023088",
     "exception": false,
     "start_time": "2022-10-30T15:38:45.927419",
     "status": "completed"
    },
    "tags": []
   },
   "outputs": [
    {
     "data": {
      "text/html": [
       "<div>\n",
       "<style scoped>\n",
       "    .dataframe tbody tr th:only-of-type {\n",
       "        vertical-align: middle;\n",
       "    }\n",
       "\n",
       "    .dataframe tbody tr th {\n",
       "        vertical-align: top;\n",
       "    }\n",
       "\n",
       "    .dataframe thead tr th {\n",
       "        text-align: left;\n",
       "    }\n",
       "\n",
       "    .dataframe thead tr:last-of-type th {\n",
       "        text-align: right;\n",
       "    }\n",
       "</style>\n",
       "<table border=\"1\" class=\"dataframe\">\n",
       "  <thead>\n",
       "    <tr>\n",
       "      <th></th>\n",
       "      <th colspan=\"3\" halign=\"left\">recency_cltv_weekly</th>\n",
       "      <th colspan=\"3\" halign=\"left\">T_weekly</th>\n",
       "      <th colspan=\"3\" halign=\"left\">frequency</th>\n",
       "      <th colspan=\"3\" halign=\"left\">monetary_cltv_avg</th>\n",
       "      <th colspan=\"3\" halign=\"left\">exp_sales_3_month</th>\n",
       "      <th colspan=\"3\" halign=\"left\">exp_sales_6_month</th>\n",
       "      <th colspan=\"3\" halign=\"left\">exp_average_value</th>\n",
       "      <th colspan=\"3\" halign=\"left\">cltv</th>\n",
       "    </tr>\n",
       "    <tr>\n",
       "      <th></th>\n",
       "      <th>max</th>\n",
       "      <th>mean</th>\n",
       "      <th>count</th>\n",
       "      <th>max</th>\n",
       "      <th>mean</th>\n",
       "      <th>count</th>\n",
       "      <th>max</th>\n",
       "      <th>mean</th>\n",
       "      <th>count</th>\n",
       "      <th>max</th>\n",
       "      <th>mean</th>\n",
       "      <th>count</th>\n",
       "      <th>max</th>\n",
       "      <th>mean</th>\n",
       "      <th>count</th>\n",
       "      <th>max</th>\n",
       "      <th>mean</th>\n",
       "      <th>count</th>\n",
       "      <th>max</th>\n",
       "      <th>mean</th>\n",
       "      <th>count</th>\n",
       "      <th>max</th>\n",
       "      <th>mean</th>\n",
       "      <th>count</th>\n",
       "    </tr>\n",
       "    <tr>\n",
       "      <th>cltv_segment</th>\n",
       "      <th></th>\n",
       "      <th></th>\n",
       "      <th></th>\n",
       "      <th></th>\n",
       "      <th></th>\n",
       "      <th></th>\n",
       "      <th></th>\n",
       "      <th></th>\n",
       "      <th></th>\n",
       "      <th></th>\n",
       "      <th></th>\n",
       "      <th></th>\n",
       "      <th></th>\n",
       "      <th></th>\n",
       "      <th></th>\n",
       "      <th></th>\n",
       "      <th></th>\n",
       "      <th></th>\n",
       "      <th></th>\n",
       "      <th></th>\n",
       "      <th></th>\n",
       "      <th></th>\n",
       "      <th></th>\n",
       "      <th></th>\n",
       "    </tr>\n",
       "  </thead>\n",
       "  <tbody>\n",
       "    <tr>\n",
       "      <th>D</th>\n",
       "      <td>432.5714</td>\n",
       "      <td>139.0002</td>\n",
       "      <td>4987</td>\n",
       "      <td>436.2857</td>\n",
       "      <td>162.1832</td>\n",
       "      <td>4987</td>\n",
       "      <td>18.0000</td>\n",
       "      <td>3.7688</td>\n",
       "      <td>4987</td>\n",
       "      <td>284.9850</td>\n",
       "      <td>93.1516</td>\n",
       "      <td>4987</td>\n",
       "      <td>1.0498</td>\n",
       "      <td>0.4089</td>\n",
       "      <td>4987</td>\n",
       "      <td>2.0995</td>\n",
       "      <td>0.8178</td>\n",
       "      <td>4987</td>\n",
       "      <td>306.5909</td>\n",
       "      <td>98.6911</td>\n",
       "      <td>4987</td>\n",
       "      <td>112.2454</td>\n",
       "      <td>80.3405</td>\n",
       "      <td>4987</td>\n",
       "    </tr>\n",
       "    <tr>\n",
       "      <th>C</th>\n",
       "      <td>433.0000</td>\n",
       "      <td>92.6295</td>\n",
       "      <td>4986</td>\n",
       "      <td>434.7143</td>\n",
       "      <td>112.8183</td>\n",
       "      <td>4986</td>\n",
       "      <td>32.0000</td>\n",
       "      <td>4.4047</td>\n",
       "      <td>4986</td>\n",
       "      <td>342.8400</td>\n",
       "      <td>125.7885</td>\n",
       "      <td>4986</td>\n",
       "      <td>1.5684</td>\n",
       "      <td>0.5254</td>\n",
       "      <td>4986</td>\n",
       "      <td>3.1369</td>\n",
       "      <td>1.0509</td>\n",
       "      <td>4986</td>\n",
       "      <td>368.3901</td>\n",
       "      <td>132.2506</td>\n",
       "      <td>4986</td>\n",
       "      <td>165.4689</td>\n",
       "      <td>138.3115</td>\n",
       "      <td>4986</td>\n",
       "    </tr>\n",
       "    <tr>\n",
       "      <th>B</th>\n",
       "      <td>415.5714</td>\n",
       "      <td>81.9884</td>\n",
       "      <td>4986</td>\n",
       "      <td>423.5714</td>\n",
       "      <td>100.3265</td>\n",
       "      <td>4986</td>\n",
       "      <td>50.0000</td>\n",
       "      <td>5.0927</td>\n",
       "      <td>4986</td>\n",
       "      <td>539.9850</td>\n",
       "      <td>160.6366</td>\n",
       "      <td>4986</td>\n",
       "      <td>1.7822</td>\n",
       "      <td>0.6011</td>\n",
       "      <td>4986</td>\n",
       "      <td>3.5643</td>\n",
       "      <td>1.2022</td>\n",
       "      <td>4986</td>\n",
       "      <td>578.9751</td>\n",
       "      <td>168.0006</td>\n",
       "      <td>4986</td>\n",
       "      <td>240.0579</td>\n",
       "      <td>199.5328</td>\n",
       "      <td>4986</td>\n",
       "    </tr>\n",
       "    <tr>\n",
       "      <th>A</th>\n",
       "      <td>433.4286</td>\n",
       "      <td>67.4271</td>\n",
       "      <td>4986</td>\n",
       "      <td>437.1429</td>\n",
       "      <td>82.5497</td>\n",
       "      <td>4986</td>\n",
       "      <td>57.0000</td>\n",
       "      <td>6.6466</td>\n",
       "      <td>4986</td>\n",
       "      <td>1401.8000</td>\n",
       "      <td>228.8311</td>\n",
       "      <td>4986</td>\n",
       "      <td>4.6561</td>\n",
       "      <td>0.7730</td>\n",
       "      <td>4986</td>\n",
       "      <td>9.3123</td>\n",
       "      <td>1.5461</td>\n",
       "      <td>4986</td>\n",
       "      <td>1449.0605</td>\n",
       "      <td>238.0240</td>\n",
       "      <td>4986</td>\n",
       "      <td>3327.7770</td>\n",
       "      <td>362.3155</td>\n",
       "      <td>4986</td>\n",
       "    </tr>\n",
       "  </tbody>\n",
       "</table>\n",
       "</div>"
      ],
      "text/plain": [
       "             recency_cltv_weekly                T_weekly                frequency              monetary_cltv_avg                exp_sales_3_month              exp_sales_6_month              exp_average_value                 \\\n",
       "                             max     mean count      max     mean count       max   mean count               max     mean count               max   mean count               max   mean count               max     mean count   \n",
       "cltv_segment                                                                                                                                                                                                                     \n",
       "D                       432.5714 139.0002  4987 436.2857 162.1832  4987   18.0000 3.7688  4987          284.9850  93.1516  4987            1.0498 0.4089  4987            2.0995 0.8178  4987          306.5909  98.6911  4987   \n",
       "C                       433.0000  92.6295  4986 434.7143 112.8183  4986   32.0000 4.4047  4986          342.8400 125.7885  4986            1.5684 0.5254  4986            3.1369 1.0509  4986          368.3901 132.2506  4986   \n",
       "B                       415.5714  81.9884  4986 423.5714 100.3265  4986   50.0000 5.0927  4986          539.9850 160.6366  4986            1.7822 0.6011  4986            3.5643 1.2022  4986          578.9751 168.0006  4986   \n",
       "A                       433.4286  67.4271  4986 437.1429  82.5497  4986   57.0000 6.6466  4986         1401.8000 228.8311  4986            4.6561 0.7730  4986            9.3123 1.5461  4986         1449.0605 238.0240  4986   \n",
       "\n",
       "                  cltv                 \n",
       "                   max     mean count  \n",
       "cltv_segment                           \n",
       "D             112.2454  80.3405  4987  \n",
       "C             165.4689 138.3115  4986  \n",
       "B             240.0579 199.5328  4986  \n",
       "A            3327.7770 362.3155  4986  "
      ]
     },
     "execution_count": 22,
     "metadata": {},
     "output_type": "execute_result"
    }
   ],
   "source": [
    "cltv_df.groupby(\"cltv_segment\").agg([\"max\",\"mean\",\"count\"])"
   ]
  },
  {
   "cell_type": "code",
   "execution_count": null,
   "id": "88cf10ac",
   "metadata": {
    "papermill": {
     "duration": 0.013875,
     "end_time": "2022-10-30T15:38:46.050995",
     "exception": false,
     "start_time": "2022-10-30T15:38:46.037120",
     "status": "completed"
    },
    "tags": []
   },
   "outputs": [],
   "source": []
  }
 ],
 "metadata": {
  "kernelspec": {
   "display_name": "Python 3",
   "language": "python",
   "name": "python3"
  },
  "language_info": {
   "codemirror_mode": {
    "name": "ipython",
    "version": 3
   },
   "file_extension": ".py",
   "mimetype": "text/x-python",
   "name": "python",
   "nbconvert_exporter": "python",
   "pygments_lexer": "ipython3",
   "version": "3.7.12"
  },
  "papermill": {
   "default_parameters": {},
   "duration": 29.878012,
   "end_time": "2022-10-30T15:38:46.887982",
   "environment_variables": {},
   "exception": null,
   "input_path": "__notebook__.ipynb",
   "output_path": "__notebook__.ipynb",
   "parameters": {},
   "start_time": "2022-10-30T15:38:17.009970",
   "version": "2.3.4"
  }
 },
 "nbformat": 4,
 "nbformat_minor": 5
}
